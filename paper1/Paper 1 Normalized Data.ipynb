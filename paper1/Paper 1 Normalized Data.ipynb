{
  "nbformat": 4,
  "nbformat_minor": 0,
  "metadata": {
    "colab": {
      "name": "Prosper_Classification_Scaled.ipynb",
      "provenance": [],
      "collapsed_sections": []
    },
    "kernelspec": {
      "name": "python3",
      "display_name": "Python 3"
    }
  },
  "cells": [
    {
      "cell_type": "code",
      "metadata": {
        "id": "7b7sYLe4sAWg",
        "outputId": "c9dbf118-70bd-45a6-d526-0c8342dbe927",
        "colab": {
          "base_uri": "https://localhost:8080/",
          "height": 1000
        }
      },
      "source": [
        "from sklearn.preprocessing import StandardScaler\n",
        "from sklearn import preprocessing\n",
        "%matplotlib inline\n",
        "import numpy as np\n",
        "import matplotlib.pyplot as plt\n",
        "from sklearn.pipeline import Pipeline\n",
        "import pandas as pd\n",
        "import csv\n",
        "from google.colab import drive\n",
        "\n",
        "\n",
        "from sklearn.naive_bayes import BernoulliNB, MultinomialNB\n",
        "from sklearn.svm import SVC\n",
        "from sklearn.neural_network import MLPClassifier\n",
        "from sklearn.neighbors import KNeighborsClassifier\n",
        "from sklearn.linear_model import LogisticRegression\n",
        "from sklearn.tree import DecisionTreeClassifier\n",
        "from sklearn.ensemble import RandomForestClassifier\n",
        "\n",
        "from sklearn.model_selection import GridSearchCV\n",
        "from sklearn.metrics import precision_recall_fscore_support, precision_score, recall_score\n",
        "from sklearn.metrics import confusion_matrix\n",
        "from sklearn.model_selection import cross_val_score, cross_validate, cross_val_predict\n",
        "\n",
        "from google.colab import drive\n",
        "drive.mount('/content/gdrive')\n",
        "path_folder =\"/content/gdrive/My Drive/PhD/Prosper/\"\n",
        "\n",
        "df = pd.read_excel(path_folder+'features_data_with_label.xlsx')\n",
        "print(df)\n",
        "df = df.loc[df['anomaly'] == 0]\n",
        "print(df)\n",
        "\n",
        "X = df[['number_of_create' , 'number_of_read' , 'number_of_update' , 'number_of_delete' , 'number_of_patient_record' , 'number_of_unique_patient_record' , 'number_of_modules' , 'number_of_report_module' , 'number_of_finance_module' , 'number_of_patient_module' , 'number_of_lab_module' , 'number_of_pharmacy_module' , 'number_of_access_warning' , 'number_of_outside_access' , 'number_of_browser' , 'number_of_chrome' , 'number_of_ie' , 'number_of_safari' , 'number_of_firefox' , 'number_of_otherbrowser' , 'anomaly']]\n",
        "y = df['employee_role']\n",
        "\n",
        "scaler = StandardScaler()\n",
        "\n",
        "scaler.fit(X)\n",
        "\n",
        "param_grid = [\n",
        "  {'C': [1, 10, 100, 1000]}\n",
        " ]\n",
        "\n",
        "bern_nb = Pipeline([('scale', StandardScaler()), (\"bernoulli nb\", BernoulliNB())])\n",
        "mult_nb = Pipeline([('scale', StandardScaler()), (\"multinomial nb\", MultinomialNB())])\n",
        "svm = Pipeline([('scale', StandardScaler()), (\"linear svc\", SVC(kernel='linear', probability=True))])\n",
        "nn = Pipeline([('scale', StandardScaler()), (\"neural network\", MLPClassifier())])\n",
        "knn = Pipeline([('scale', StandardScaler()), (\"multinomial nb\",  KNeighborsClassifier(5))])\n",
        "lr = Pipeline([('scale', StandardScaler()), (\"multinomial nb\",  LogisticRegression())])\n",
        "rf = Pipeline([('scale', StandardScaler()), (\"multinomial nb\", RandomForestClassifier())])\n",
        "dt = Pipeline([('scale', StandardScaler()), (\"multinomial nb\", DecisionTreeClassifier())])\n",
        "\n",
        "all_models = [\n",
        "    (\"mult_nb\", mult_nb),\n",
        "    (\"bern_nb\", bern_nb),\n",
        "    (\"nn\", nn),\n",
        "    (\"knn\", knn),\n",
        "    (\"lr\", lr),\n",
        "    (\"rf\", rf),\n",
        "    (\"dt\", dt),\n",
        "    (\"svm\", svm)\n",
        "]\n",
        "\n",
        "for name, model in all_models: \n",
        "  clf=model\n",
        "  print(name)\n",
        "  scoring = ['precision_macro', 'recall_macro', 'f1_macro']\n",
        "  scores = cross_validate(clf, X, y, cv=5)\n",
        "  print(scores)\n",
        "  print(sum(scores['test_score'])/len(scores['test_score']))\n"
      ],
      "execution_count": null,
      "outputs": [
        {
          "output_type": "stream",
          "text": [
            "Drive already mounted at /content/gdrive; to attempt to forcibly remount, call drive.mount(\"/content/gdrive\", force_remount=True).\n",
            "      employeeID   date  ... number_of_otherbrowser  anomaly\n",
            "0          emp_0  01/01  ...                      0        0\n",
            "1          emp_0  28/01  ...                      0        0\n",
            "2          emp_0  03/02  ...                      0        0\n",
            "3          emp_0  03/03  ...                      0        0\n",
            "4          emp_0  01/04  ...                      0        0\n",
            "...          ...    ...  ...                    ...      ...\n",
            "24970     emp_99  22/12  ...                      0        0\n",
            "24971     emp_99  24/12  ...                      0        0\n",
            "24972     emp_99  26/12  ...                      0        0\n",
            "24973     emp_99  28/12  ...                      0        0\n",
            "24974     emp_99  30/12  ...                      0        0\n",
            "\n",
            "[24975 rows x 24 columns]\n",
            "      employeeID   date  ... number_of_otherbrowser  anomaly\n",
            "0          emp_0  01/01  ...                      0        0\n",
            "1          emp_0  28/01  ...                      0        0\n",
            "2          emp_0  03/02  ...                      0        0\n",
            "3          emp_0  03/03  ...                      0        0\n",
            "4          emp_0  01/04  ...                      0        0\n",
            "...          ...    ...  ...                    ...      ...\n",
            "24970     emp_99  22/12  ...                      0        0\n",
            "24971     emp_99  24/12  ...                      0        0\n",
            "24972     emp_99  26/12  ...                      0        0\n",
            "24973     emp_99  28/12  ...                      0        0\n",
            "24974     emp_99  30/12  ...                      0        0\n",
            "\n",
            "[24793 rows x 24 columns]\n",
            "mult_nb\n"
          ],
          "name": "stdout"
        },
        {
          "output_type": "stream",
          "text": [
            "/usr/local/lib/python3.6/dist-packages/sklearn/model_selection/_validation.py:536: FitFailedWarning: Estimator fit failed. The score on this train-test partition for these parameters will be set to nan. Details: \n",
            "ValueError: Negative values in data passed to MultinomialNB (input X)\n",
            "\n",
            "  FitFailedWarning)\n",
            "/usr/local/lib/python3.6/dist-packages/sklearn/model_selection/_validation.py:536: FitFailedWarning: Estimator fit failed. The score on this train-test partition for these parameters will be set to nan. Details: \n",
            "ValueError: Negative values in data passed to MultinomialNB (input X)\n",
            "\n",
            "  FitFailedWarning)\n",
            "/usr/local/lib/python3.6/dist-packages/sklearn/model_selection/_validation.py:536: FitFailedWarning: Estimator fit failed. The score on this train-test partition for these parameters will be set to nan. Details: \n",
            "ValueError: Negative values in data passed to MultinomialNB (input X)\n",
            "\n",
            "  FitFailedWarning)\n",
            "/usr/local/lib/python3.6/dist-packages/sklearn/model_selection/_validation.py:536: FitFailedWarning: Estimator fit failed. The score on this train-test partition for these parameters will be set to nan. Details: \n",
            "ValueError: Negative values in data passed to MultinomialNB (input X)\n",
            "\n",
            "  FitFailedWarning)\n",
            "/usr/local/lib/python3.6/dist-packages/sklearn/model_selection/_validation.py:536: FitFailedWarning: Estimator fit failed. The score on this train-test partition for these parameters will be set to nan. Details: \n",
            "ValueError: Negative values in data passed to MultinomialNB (input X)\n",
            "\n",
            "  FitFailedWarning)\n"
          ],
          "name": "stderr"
        },
        {
          "output_type": "stream",
          "text": [
            "{'fit_time': array([0.07033968, 0.07470894, 0.0707016 , 0.07417274, 0.07060432]), 'score_time': array([0., 0., 0., 0., 0.]), 'test_score': array([nan, nan, nan, nan, nan])}\n",
            "nan\n",
            "bern_nb\n",
            "{'fit_time': array([0.07642603, 0.12828898, 0.12769222, 0.12947488, 0.12741971]), 'score_time': array([0.01100111, 0.01099944, 0.01072145, 0.01142669, 0.01150799]), 'test_score': array([0.61907643, 0.7424884 , 0.83323251, 0.80617184, 0.6641791 ])}\n",
            "0.7330296572271815\n",
            "nn\n",
            "{'fit_time': array([21.86573672, 27.17795157, 21.62043715, 21.2424624 , 30.21689272]), 'score_time': array([0.01900387, 0.01864386, 0.01850796, 0.01907754, 0.0184443 ]), 'test_score': array([0.8215366 , 0.83867715, 0.83686227, 0.96530859, 0.96732553])}\n",
            "0.885942030011158\n",
            "knn\n",
            "{'fit_time': array([0.72833085, 0.73178506, 0.69461131, 0.69929218, 0.71120572]), 'score_time': array([0.79175067, 0.76013637, 0.9396553 , 0.99736524, 0.96187043]), 'test_score': array([0.79310345, 0.79270014, 0.86872353, 0.99475595, 0.99415087])}\n",
            "0.8886867879337472\n",
            "lr\n"
          ],
          "name": "stdout"
        },
        {
          "output_type": "stream",
          "text": [
            "/usr/local/lib/python3.6/dist-packages/sklearn/linear_model/_logistic.py:940: ConvergenceWarning: lbfgs failed to converge (status=1):\n",
            "STOP: TOTAL NO. of ITERATIONS REACHED LIMIT.\n",
            "\n",
            "Increase the number of iterations (max_iter) or scale the data as shown in:\n",
            "    https://scikit-learn.org/stable/modules/preprocessing.html\n",
            "Please also refer to the documentation for alternative solver options:\n",
            "    https://scikit-learn.org/stable/modules/linear_model.html#logistic-regression\n",
            "  extra_warning_msg=_LOGISTIC_SOLVER_CONVERGENCE_MSG)\n",
            "/usr/local/lib/python3.6/dist-packages/sklearn/linear_model/_logistic.py:940: ConvergenceWarning: lbfgs failed to converge (status=1):\n",
            "STOP: TOTAL NO. of ITERATIONS REACHED LIMIT.\n",
            "\n",
            "Increase the number of iterations (max_iter) or scale the data as shown in:\n",
            "    https://scikit-learn.org/stable/modules/preprocessing.html\n",
            "Please also refer to the documentation for alternative solver options:\n",
            "    https://scikit-learn.org/stable/modules/linear_model.html#logistic-regression\n",
            "  extra_warning_msg=_LOGISTIC_SOLVER_CONVERGENCE_MSG)\n",
            "/usr/local/lib/python3.6/dist-packages/sklearn/linear_model/_logistic.py:940: ConvergenceWarning: lbfgs failed to converge (status=1):\n",
            "STOP: TOTAL NO. of ITERATIONS REACHED LIMIT.\n",
            "\n",
            "Increase the number of iterations (max_iter) or scale the data as shown in:\n",
            "    https://scikit-learn.org/stable/modules/preprocessing.html\n",
            "Please also refer to the documentation for alternative solver options:\n",
            "    https://scikit-learn.org/stable/modules/linear_model.html#logistic-regression\n",
            "  extra_warning_msg=_LOGISTIC_SOLVER_CONVERGENCE_MSG)\n",
            "/usr/local/lib/python3.6/dist-packages/sklearn/linear_model/_logistic.py:940: ConvergenceWarning: lbfgs failed to converge (status=1):\n",
            "STOP: TOTAL NO. of ITERATIONS REACHED LIMIT.\n",
            "\n",
            "Increase the number of iterations (max_iter) or scale the data as shown in:\n",
            "    https://scikit-learn.org/stable/modules/preprocessing.html\n",
            "Please also refer to the documentation for alternative solver options:\n",
            "    https://scikit-learn.org/stable/modules/linear_model.html#logistic-regression\n",
            "  extra_warning_msg=_LOGISTIC_SOLVER_CONVERGENCE_MSG)\n",
            "/usr/local/lib/python3.6/dist-packages/sklearn/linear_model/_logistic.py:940: ConvergenceWarning: lbfgs failed to converge (status=1):\n",
            "STOP: TOTAL NO. of ITERATIONS REACHED LIMIT.\n",
            "\n",
            "Increase the number of iterations (max_iter) or scale the data as shown in:\n",
            "    https://scikit-learn.org/stable/modules/preprocessing.html\n",
            "Please also refer to the documentation for alternative solver options:\n",
            "    https://scikit-learn.org/stable/modules/linear_model.html#logistic-regression\n",
            "  extra_warning_msg=_LOGISTIC_SOLVER_CONVERGENCE_MSG)\n"
          ],
          "name": "stderr"
        },
        {
          "output_type": "stream",
          "text": [
            "{'fit_time': array([3.0629189 , 3.14633584, 3.02397108, 3.14206338, 3.40434027]), 'score_time': array([0.01197028, 0.01211333, 0.01159716, 0.01243591, 0.01210093]), 'test_score': array([0.80338778, 0.79128857, 0.86630369, 0.97156111, 0.96450182])}\n",
            "0.8794085929795765\n",
            "rf\n",
            "{'fit_time': array([0.90396833, 0.88725305, 0.89258504, 0.86076355, 0.84332156]), 'score_time': array([0.08898926, 0.09173083, 0.08689976, 0.08220625, 0.08019638]), 'test_score': array([0.82113329, 0.83807219, 0.83726558, 0.96470351, 0.96752723])}\n",
            "0.8857403601830288\n",
            "dt\n",
            "{'fit_time': array([0.0553391 , 0.0637877 , 0.06829453, 0.05551267, 0.05383873]), 'score_time': array([0.00703883, 0.00774074, 0.00707388, 0.0068295 , 0.00680256]), 'test_score': array([0.82093164, 0.83787054, 0.83726558, 0.96409843, 0.96631706])}\n",
            "0.8852966491425738\n",
            "svm\n",
            "{'fit_time': array([28.53092241, 31.2775116 , 22.27509141, 37.50939298, 36.83894801]), 'score_time': array([0.92581177, 0.94062519, 0.8475616 , 1.20866942, 1.19976401]), 'test_score': array([0.78584392, 0.78221416, 0.86469046, 0.96672045, 0.96389673])}\n",
            "0.8726731444720446\n"
          ],
          "name": "stdout"
        }
      ]
    },
    {
      "cell_type": "code",
      "metadata": {
        "id": "lhRSqDO_XLg-",
        "outputId": "50de4565-7af5-4d79-9488-d4ce8d0cfddb",
        "colab": {
          "base_uri": "https://localhost:8080/",
          "height": 1000
        }
      },
      "source": [
        "from sklearn.preprocessing import StandardScaler\n",
        "from sklearn import preprocessing\n",
        "\n",
        "%matplotlib inline\n",
        "import numpy as np\n",
        "import matplotlib.pyplot as plt\n",
        "from sklearn.pipeline import Pipeline\n",
        "import pandas as pd\n",
        "import csv\n",
        "from google.colab import drive\n",
        "\n",
        "\n",
        "from sklearn.naive_bayes import BernoulliNB, MultinomialNB\n",
        "from sklearn.svm import SVC\n",
        "from sklearn.neural_network import MLPClassifier\n",
        "from sklearn.neighbors import KNeighborsClassifier\n",
        "from sklearn.linear_model import LogisticRegression\n",
        "from sklearn.tree import DecisionTreeClassifier\n",
        "from sklearn.ensemble import RandomForestClassifier\n",
        "\n",
        "from sklearn.model_selection import GridSearchCV\n",
        "from sklearn.metrics import precision_recall_fscore_support, precision_score, recall_score\n",
        "from sklearn.metrics import confusion_matrix\n",
        "from sklearn.model_selection import cross_val_score, cross_validate, cross_val_predict\n",
        "\n",
        "from google.colab import drive\n",
        "drive.mount('/content/gdrive')\n",
        "path_folder =\"/content/gdrive/My Drive/PhD/Prosper/\"\n",
        "\n",
        "df = pd.read_excel(path_folder+'features_data_with_label_v2.xlsx')\n",
        "print(df)\n",
        "df = df.loc[df['anomaly'] == 0]\n",
        "print(df)\n",
        "\n",
        "X = df[['number_of_create' , 'number_of_read' , 'number_of_update' , 'number_of_delete' , 'number_of_patient_record' , 'number_of_unique_patient_record' , 'number_of_modules' , 'number_of_report_module' , 'number_of_finance_module' , 'number_of_patient_module' , 'number_of_lab_module' , 'number_of_pharmacy_module' , 'number_of_access_warning' , 'number_of_outside_access' , 'number_of_browser' , 'number_of_chrome' , 'number_of_ie' , 'number_of_safari' , 'number_of_firefox' , 'number_of_otherbrowser' , 'anomaly']]\n",
        "y = df['employee_role']\n",
        "param_grid = [\n",
        "  {'C': [1, 10, 100, 1000]}\n",
        " ]\n",
        "\n",
        "\n",
        "mult_nb = Pipeline([('scale', StandardScaler()), (\"multinomial nb\", MultinomialNB())])\n",
        "bern_nb = Pipeline([('scale', StandardScaler()), (\"bernoulli nb\", BernoulliNB())])\n",
        "svm = Pipeline([('scale', StandardScaler()), (\"linear svc\", SVC(kernel='linear', probability=True))])\n",
        "nn = Pipeline([('scale', StandardScaler()), (\"neural network\", MLPClassifier())])\n",
        "knn = Pipeline([('scale', StandardScaler()), (\"multinomial nb\",  KNeighborsClassifier(5))])\n",
        "lr = Pipeline([('scale', StandardScaler()), (\"multinomial nb\",  LogisticRegression())])\n",
        "rf = Pipeline([('scale', StandardScaler()), (\"multinomial nb\", RandomForestClassifier())])\n",
        "dt = Pipeline([('scale', StandardScaler()), (\"multinomial nb\", DecisionTreeClassifier())])\n",
        "\n",
        "all_models = [\n",
        "    (\"mult_nb\", mult_nb),\n",
        "    (\"bern_nb\", bern_nb),\n",
        "    (\"nn\", nn),\n",
        "    (\"knn\", knn),\n",
        "    (\"lr\", lr),\n",
        "    (\"rf\", rf),\n",
        "    (\"dt\", dt),\n",
        "    (\"svm\", svm)\n",
        "]\n",
        "\n",
        "for name, model in all_models: \n",
        "  clf=model\n",
        "  #print(name)\n",
        "  #result = cross_val_predict(clf, X, y, cv=5) # 5-fold Cross Validation\n",
        "  #conf_mat = confusion_matrix(y, result)\n",
        "  #print(conf_mat)\n",
        "  #print(\"Precision Score : \",precision_score(y, result, average='micro'))\n",
        "  #print(\"Recall Score : \",recall_score(y, result, average='micro'))\n",
        "  #scoring = ['precision_macro', 'recall_macro', 'f1_macro']\n",
        "  scores = cross_validate(clf, X, y, cv=5)\n",
        "  #print(scores)\n",
        "  print(name + '&' + str(sum(scores['test_score'])/len(scores['test_score']))+'\\\\\\\\')\n",
        "  #print(sum(scores['test_score'])/len(scores['test_score']))\n",
        "  #cross_val_score(clf, X, y, cv=5, scoring='precision_macro')\n",
        "\n",
        "  #print(cross_val_score(clf, X, y, cv=5, scoring='recall_macro'))\n",
        "  #print(cross_val_score(clf, X, y, cv=5, scoring='precision_micro'))\n",
        "  #print(cross_val_score(clf, X, y, cv=5, scoring='recall_micro'))\n",
        "  #print(cross_val_score(clf, X, y, cv=5, scoring='f1_macro'))\n",
        "  #print(cross_val_score(clf, X, y, cv=5, scoring='f1_micro'))\n",
        "  \n"
      ],
      "execution_count": null,
      "outputs": [
        {
          "output_type": "stream",
          "text": [
            "Drive already mounted at /content/gdrive; to attempt to forcibly remount, call drive.mount(\"/content/gdrive\", force_remount=True).\n",
            "      employeeID   date  ... number_of_otherbrowser  anomaly\n",
            "0          emp_0  01/01  ...                      0        0\n",
            "1          emp_0  03/02  ...                      0        0\n",
            "2          emp_0  05/02  ...                      0        0\n",
            "3          emp_0  13/02  ...                      0        0\n",
            "4          emp_0  03/03  ...                      0        0\n",
            "...          ...    ...  ...                    ...      ...\n",
            "24643     emp_99  22/12  ...                      0        0\n",
            "24644     emp_99  24/12  ...                      0        0\n",
            "24645     emp_99  26/12  ...                      0        0\n",
            "24646     emp_99  28/12  ...                      0        0\n",
            "24647     emp_99  30/12  ...                      0        0\n",
            "\n",
            "[24648 rows x 24 columns]\n",
            "      employeeID   date  ... number_of_otherbrowser  anomaly\n",
            "0          emp_0  01/01  ...                      0        0\n",
            "1          emp_0  03/02  ...                      0        0\n",
            "2          emp_0  05/02  ...                      0        0\n",
            "3          emp_0  13/02  ...                      0        0\n",
            "4          emp_0  03/03  ...                      0        0\n",
            "...          ...    ...  ...                    ...      ...\n",
            "24643     emp_99  22/12  ...                      0        0\n",
            "24644     emp_99  24/12  ...                      0        0\n",
            "24645     emp_99  26/12  ...                      0        0\n",
            "24646     emp_99  28/12  ...                      0        0\n",
            "24647     emp_99  30/12  ...                      0        0\n",
            "\n",
            "[24286 rows x 24 columns]\n"
          ],
          "name": "stdout"
        },
        {
          "output_type": "stream",
          "text": [
            "/usr/local/lib/python3.6/dist-packages/sklearn/model_selection/_validation.py:536: FitFailedWarning: Estimator fit failed. The score on this train-test partition for these parameters will be set to nan. Details: \n",
            "ValueError: Negative values in data passed to MultinomialNB (input X)\n",
            "\n",
            "  FitFailedWarning)\n",
            "/usr/local/lib/python3.6/dist-packages/sklearn/model_selection/_validation.py:536: FitFailedWarning: Estimator fit failed. The score on this train-test partition for these parameters will be set to nan. Details: \n",
            "ValueError: Negative values in data passed to MultinomialNB (input X)\n",
            "\n",
            "  FitFailedWarning)\n",
            "/usr/local/lib/python3.6/dist-packages/sklearn/model_selection/_validation.py:536: FitFailedWarning: Estimator fit failed. The score on this train-test partition for these parameters will be set to nan. Details: \n",
            "ValueError: Negative values in data passed to MultinomialNB (input X)\n",
            "\n",
            "  FitFailedWarning)\n",
            "/usr/local/lib/python3.6/dist-packages/sklearn/model_selection/_validation.py:536: FitFailedWarning: Estimator fit failed. The score on this train-test partition for these parameters will be set to nan. Details: \n",
            "ValueError: Negative values in data passed to MultinomialNB (input X)\n",
            "\n",
            "  FitFailedWarning)\n",
            "/usr/local/lib/python3.6/dist-packages/sklearn/model_selection/_validation.py:536: FitFailedWarning: Estimator fit failed. The score on this train-test partition for these parameters will be set to nan. Details: \n",
            "ValueError: Negative values in data passed to MultinomialNB (input X)\n",
            "\n",
            "  FitFailedWarning)\n"
          ],
          "name": "stderr"
        },
        {
          "output_type": "stream",
          "text": [
            "mult_nb&nan\\\\\n",
            "bern_nb&0.7326488073517673\\\\\n"
          ],
          "name": "stdout"
        },
        {
          "output_type": "stream",
          "text": [
            "/usr/local/lib/python3.6/dist-packages/sklearn/neural_network/_multilayer_perceptron.py:571: ConvergenceWarning: Stochastic Optimizer: Maximum iterations (200) reached and the optimization hasn't converged yet.\n",
            "  % self.max_iter, ConvergenceWarning)\n"
          ],
          "name": "stderr"
        },
        {
          "output_type": "stream",
          "text": [
            "nn&0.8682382250096692\\\\\n",
            "knn&0.8647397495078046\\\\\n"
          ],
          "name": "stdout"
        },
        {
          "output_type": "stream",
          "text": [
            "/usr/local/lib/python3.6/dist-packages/sklearn/linear_model/_logistic.py:940: ConvergenceWarning: lbfgs failed to converge (status=1):\n",
            "STOP: TOTAL NO. of ITERATIONS REACHED LIMIT.\n",
            "\n",
            "Increase the number of iterations (max_iter) or scale the data as shown in:\n",
            "    https://scikit-learn.org/stable/modules/preprocessing.html\n",
            "Please also refer to the documentation for alternative solver options:\n",
            "    https://scikit-learn.org/stable/modules/linear_model.html#logistic-regression\n",
            "  extra_warning_msg=_LOGISTIC_SOLVER_CONVERGENCE_MSG)\n",
            "/usr/local/lib/python3.6/dist-packages/sklearn/linear_model/_logistic.py:940: ConvergenceWarning: lbfgs failed to converge (status=1):\n",
            "STOP: TOTAL NO. of ITERATIONS REACHED LIMIT.\n",
            "\n",
            "Increase the number of iterations (max_iter) or scale the data as shown in:\n",
            "    https://scikit-learn.org/stable/modules/preprocessing.html\n",
            "Please also refer to the documentation for alternative solver options:\n",
            "    https://scikit-learn.org/stable/modules/linear_model.html#logistic-regression\n",
            "  extra_warning_msg=_LOGISTIC_SOLVER_CONVERGENCE_MSG)\n",
            "/usr/local/lib/python3.6/dist-packages/sklearn/linear_model/_logistic.py:940: ConvergenceWarning: lbfgs failed to converge (status=1):\n",
            "STOP: TOTAL NO. of ITERATIONS REACHED LIMIT.\n",
            "\n",
            "Increase the number of iterations (max_iter) or scale the data as shown in:\n",
            "    https://scikit-learn.org/stable/modules/preprocessing.html\n",
            "Please also refer to the documentation for alternative solver options:\n",
            "    https://scikit-learn.org/stable/modules/linear_model.html#logistic-regression\n",
            "  extra_warning_msg=_LOGISTIC_SOLVER_CONVERGENCE_MSG)\n",
            "/usr/local/lib/python3.6/dist-packages/sklearn/linear_model/_logistic.py:940: ConvergenceWarning: lbfgs failed to converge (status=1):\n",
            "STOP: TOTAL NO. of ITERATIONS REACHED LIMIT.\n",
            "\n",
            "Increase the number of iterations (max_iter) or scale the data as shown in:\n",
            "    https://scikit-learn.org/stable/modules/preprocessing.html\n",
            "Please also refer to the documentation for alternative solver options:\n",
            "    https://scikit-learn.org/stable/modules/linear_model.html#logistic-regression\n",
            "  extra_warning_msg=_LOGISTIC_SOLVER_CONVERGENCE_MSG)\n",
            "/usr/local/lib/python3.6/dist-packages/sklearn/linear_model/_logistic.py:940: ConvergenceWarning: lbfgs failed to converge (status=1):\n",
            "STOP: TOTAL NO. of ITERATIONS REACHED LIMIT.\n",
            "\n",
            "Increase the number of iterations (max_iter) or scale the data as shown in:\n",
            "    https://scikit-learn.org/stable/modules/preprocessing.html\n",
            "Please also refer to the documentation for alternative solver options:\n",
            "    https://scikit-learn.org/stable/modules/linear_model.html#logistic-regression\n",
            "  extra_warning_msg=_LOGISTIC_SOLVER_CONVERGENCE_MSG)\n"
          ],
          "name": "stderr"
        },
        {
          "output_type": "stream",
          "text": [
            "lr&0.8793166827334217\\\\\n",
            "rf&0.8892388341986326\\\\\n",
            "dt&0.8889505734742326\\\\\n",
            "svm&0.8748698575894712\\\\\n"
          ],
          "name": "stdout"
        }
      ]
    },
    {
      "cell_type": "code",
      "metadata": {
        "id": "vCqt7v7oZd89",
        "outputId": "f77765a0-ebd0-4d06-bd60-c401e16461bf",
        "colab": {
          "base_uri": "https://localhost:8080/",
          "height": 1000
        }
      },
      "source": [
        "from sklearn.preprocessing import StandardScaler\n",
        "from sklearn import preprocessing\n",
        "from sklearn.preprocessing import MinMaxScaler\n",
        "\n",
        "%matplotlib inline\n",
        "import numpy as np\n",
        "import matplotlib.pyplot as plt\n",
        "from sklearn.pipeline import Pipeline\n",
        "import pandas as pd\n",
        "import csv\n",
        "from google.colab import drive\n",
        "\n",
        "\n",
        "from sklearn.naive_bayes import BernoulliNB, MultinomialNB\n",
        "from sklearn.svm import SVC\n",
        "from sklearn.neural_network import MLPClassifier\n",
        "from sklearn.neighbors import KNeighborsClassifier\n",
        "from sklearn.linear_model import LogisticRegression\n",
        "from sklearn.tree import DecisionTreeClassifier\n",
        "from sklearn.ensemble import RandomForestClassifier\n",
        "\n",
        "from sklearn.model_selection import GridSearchCV\n",
        "from sklearn.metrics import precision_recall_fscore_support, precision_score, recall_score\n",
        "from sklearn.metrics import confusion_matrix\n",
        "from sklearn.model_selection import cross_val_score, cross_validate, cross_val_predict\n",
        "\n",
        "from google.colab import drive\n",
        "drive.mount('/content/gdrive')\n",
        "path_folder =\"/content/gdrive/My Drive/PhD/Prosper/\"\n",
        "\n",
        "df = pd.read_excel(path_folder+'features_data_with_label_v2.xlsx')\n",
        "print(df)\n",
        "df = df.loc[df['anomaly'] == 0]\n",
        "print(df)\n",
        "\n",
        "X = df[['number_of_create' , 'number_of_read' , 'number_of_update' , 'number_of_delete' , 'number_of_patient_record' , 'number_of_unique_patient_record' , 'number_of_modules' , 'number_of_report_module' , 'number_of_finance_module' , 'number_of_patient_module' , 'number_of_lab_module' , 'number_of_pharmacy_module' , 'number_of_access_warning' , 'number_of_outside_access' , 'number_of_browser' , 'number_of_chrome' , 'number_of_ie' , 'number_of_safari' , 'number_of_firefox' , 'number_of_otherbrowser' , 'anomaly']]\n",
        "y = df['employee_role']\n",
        "param_grid = [\n",
        "  {'C': [1, 10, 100, 1000]}\n",
        " ]\n",
        "\n",
        "bern_nb = Pipeline([('scale', MinMaxScaler()), (\"bernoulli nb\", BernoulliNB())])\n",
        "mult_nb = Pipeline([('scale', MinMaxScaler()), (\"multinomial nb\", MultinomialNB())])\n",
        "svm = Pipeline([('scale', MinMaxScaler()), (\"linear svc\", SVC(kernel='linear', probability=True))])\n",
        "nn = Pipeline([('scale', MinMaxScaler()), (\"neural network\", MLPClassifier())])\n",
        "knn = Pipeline([('scale', MinMaxScaler()), (\"multinomial nb\",  KNeighborsClassifier(5))])\n",
        "lr = Pipeline([('scale', MinMaxScaler()), (\"multinomial nb\",  LogisticRegression())])\n",
        "rf = Pipeline([('scale', MinMaxScaler()), (\"multinomial nb\", RandomForestClassifier())])\n",
        "dt = Pipeline([('scale', MinMaxScaler()), (\"multinomial nb\", DecisionTreeClassifier())])\n",
        "\n",
        "all_models = [\n",
        "    (\"mult_nb\", mult_nb),\n",
        "    (\"bern_nb\", bern_nb),\n",
        "    (\"nn\", nn),\n",
        "    (\"knn\", knn),\n",
        "    (\"lr\", lr),\n",
        "    (\"rf\", rf),\n",
        "    (\"dt\", dt),\n",
        "    (\"svm\", svm)\n",
        "]\n",
        "\n",
        "for name, model in all_models: \n",
        "  clf=model\n",
        "  #print(name)\n",
        "  #result = cross_val_predict(clf, X, y, cv=5) # 5-fold Cross Validation\n",
        "  #conf_mat = confusion_matrix(y, result)\n",
        "  #print(conf_mat)\n",
        "  #print(\"Precision Score : \",precision_score(y, result, average='micro'))\n",
        "  #print(\"Recall Score : \",recall_score(y, result, average='micro'))\n",
        "  #scoring = ['precision_macro', 'recall_macro', 'f1_macro']\n",
        "  scores = cross_validate(clf, X, y, cv=5)\n",
        "  #print(scores)\n",
        "  print(name + '&' + str(sum(scores['test_score'])/len(scores['test_score']))+'\\\\\\\\')\n",
        "  #print(sum(scores['test_score'])/len(scores['test_score']))\n",
        "  #cross_val_score(clf, X, y, cv=5, scoring='precision_macro')\n",
        "\n",
        "  #print(cross_val_score(clf, X, y, cv=5, scoring='recall_macro'))\n",
        "  #print(cross_val_score(clf, X, y, cv=5, scoring='precision_micro'))\n",
        "  #print(cross_val_score(clf, X, y, cv=5, scoring='recall_micro'))\n",
        "  #print(cross_val_score(clf, X, y, cv=5, scoring='f1_macro'))\n",
        "  #print(cross_val_score(clf, X, y, cv=5, scoring='f1_micro'))\n",
        "  \n"
      ],
      "execution_count": null,
      "outputs": [
        {
          "output_type": "stream",
          "text": [
            "Drive already mounted at /content/gdrive; to attempt to forcibly remount, call drive.mount(\"/content/gdrive\", force_remount=True).\n",
            "      employeeID   date  ... number_of_otherbrowser  anomaly\n",
            "0          emp_0  01/01  ...                      0        0\n",
            "1          emp_0  03/02  ...                      0        0\n",
            "2          emp_0  05/02  ...                      0        0\n",
            "3          emp_0  13/02  ...                      0        0\n",
            "4          emp_0  03/03  ...                      0        0\n",
            "...          ...    ...  ...                    ...      ...\n",
            "24643     emp_99  22/12  ...                      0        0\n",
            "24644     emp_99  24/12  ...                      0        0\n",
            "24645     emp_99  26/12  ...                      0        0\n",
            "24646     emp_99  28/12  ...                      0        0\n",
            "24647     emp_99  30/12  ...                      0        0\n",
            "\n",
            "[24648 rows x 24 columns]\n",
            "      employeeID   date  ... number_of_otherbrowser  anomaly\n",
            "0          emp_0  01/01  ...                      0        0\n",
            "1          emp_0  03/02  ...                      0        0\n",
            "2          emp_0  05/02  ...                      0        0\n",
            "3          emp_0  13/02  ...                      0        0\n",
            "4          emp_0  03/03  ...                      0        0\n",
            "...          ...    ...  ...                    ...      ...\n",
            "24643     emp_99  22/12  ...                      0        0\n",
            "24644     emp_99  24/12  ...                      0        0\n",
            "24645     emp_99  26/12  ...                      0        0\n",
            "24646     emp_99  28/12  ...                      0        0\n",
            "24647     emp_99  30/12  ...                      0        0\n",
            "\n",
            "[24286 rows x 24 columns]\n",
            "mult_nb&0.7145268808974123\\\\\n",
            "bern_nb&0.7741087570553228\\\\\n"
          ],
          "name": "stdout"
        },
        {
          "output_type": "stream",
          "text": [
            "/usr/local/lib/python3.6/dist-packages/sklearn/neural_network/_multilayer_perceptron.py:571: ConvergenceWarning: Stochastic Optimizer: Maximum iterations (200) reached and the optimization hasn't converged yet.\n",
            "  % self.max_iter, ConvergenceWarning)\n",
            "/usr/local/lib/python3.6/dist-packages/sklearn/neural_network/_multilayer_perceptron.py:571: ConvergenceWarning: Stochastic Optimizer: Maximum iterations (200) reached and the optimization hasn't converged yet.\n",
            "  % self.max_iter, ConvergenceWarning)\n",
            "/usr/local/lib/python3.6/dist-packages/sklearn/neural_network/_multilayer_perceptron.py:571: ConvergenceWarning: Stochastic Optimizer: Maximum iterations (200) reached and the optimization hasn't converged yet.\n",
            "  % self.max_iter, ConvergenceWarning)\n",
            "/usr/local/lib/python3.6/dist-packages/sklearn/neural_network/_multilayer_perceptron.py:571: ConvergenceWarning: Stochastic Optimizer: Maximum iterations (200) reached and the optimization hasn't converged yet.\n",
            "  % self.max_iter, ConvergenceWarning)\n",
            "/usr/local/lib/python3.6/dist-packages/sklearn/neural_network/_multilayer_perceptron.py:571: ConvergenceWarning: Stochastic Optimizer: Maximum iterations (200) reached and the optimization hasn't converged yet.\n",
            "  % self.max_iter, ConvergenceWarning)\n"
          ],
          "name": "stderr"
        },
        {
          "output_type": "stream",
          "text": [
            "nn&0.8784109941189151\\\\\n",
            "knn&0.888044520380452\\\\\n"
          ],
          "name": "stdout"
        },
        {
          "output_type": "stream",
          "text": [
            "/usr/local/lib/python3.6/dist-packages/sklearn/linear_model/_logistic.py:940: ConvergenceWarning: lbfgs failed to converge (status=1):\n",
            "STOP: TOTAL NO. of ITERATIONS REACHED LIMIT.\n",
            "\n",
            "Increase the number of iterations (max_iter) or scale the data as shown in:\n",
            "    https://scikit-learn.org/stable/modules/preprocessing.html\n",
            "Please also refer to the documentation for alternative solver options:\n",
            "    https://scikit-learn.org/stable/modules/linear_model.html#logistic-regression\n",
            "  extra_warning_msg=_LOGISTIC_SOLVER_CONVERGENCE_MSG)\n",
            "/usr/local/lib/python3.6/dist-packages/sklearn/linear_model/_logistic.py:940: ConvergenceWarning: lbfgs failed to converge (status=1):\n",
            "STOP: TOTAL NO. of ITERATIONS REACHED LIMIT.\n",
            "\n",
            "Increase the number of iterations (max_iter) or scale the data as shown in:\n",
            "    https://scikit-learn.org/stable/modules/preprocessing.html\n",
            "Please also refer to the documentation for alternative solver options:\n",
            "    https://scikit-learn.org/stable/modules/linear_model.html#logistic-regression\n",
            "  extra_warning_msg=_LOGISTIC_SOLVER_CONVERGENCE_MSG)\n",
            "/usr/local/lib/python3.6/dist-packages/sklearn/linear_model/_logistic.py:940: ConvergenceWarning: lbfgs failed to converge (status=1):\n",
            "STOP: TOTAL NO. of ITERATIONS REACHED LIMIT.\n",
            "\n",
            "Increase the number of iterations (max_iter) or scale the data as shown in:\n",
            "    https://scikit-learn.org/stable/modules/preprocessing.html\n",
            "Please also refer to the documentation for alternative solver options:\n",
            "    https://scikit-learn.org/stable/modules/linear_model.html#logistic-regression\n",
            "  extra_warning_msg=_LOGISTIC_SOLVER_CONVERGENCE_MSG)\n",
            "/usr/local/lib/python3.6/dist-packages/sklearn/linear_model/_logistic.py:940: ConvergenceWarning: lbfgs failed to converge (status=1):\n",
            "STOP: TOTAL NO. of ITERATIONS REACHED LIMIT.\n",
            "\n",
            "Increase the number of iterations (max_iter) or scale the data as shown in:\n",
            "    https://scikit-learn.org/stable/modules/preprocessing.html\n",
            "Please also refer to the documentation for alternative solver options:\n",
            "    https://scikit-learn.org/stable/modules/linear_model.html#logistic-regression\n",
            "  extra_warning_msg=_LOGISTIC_SOLVER_CONVERGENCE_MSG)\n",
            "/usr/local/lib/python3.6/dist-packages/sklearn/linear_model/_logistic.py:940: ConvergenceWarning: lbfgs failed to converge (status=1):\n",
            "STOP: TOTAL NO. of ITERATIONS REACHED LIMIT.\n",
            "\n",
            "Increase the number of iterations (max_iter) or scale the data as shown in:\n",
            "    https://scikit-learn.org/stable/modules/preprocessing.html\n",
            "Please also refer to the documentation for alternative solver options:\n",
            "    https://scikit-learn.org/stable/modules/linear_model.html#logistic-regression\n",
            "  extra_warning_msg=_LOGISTIC_SOLVER_CONVERGENCE_MSG)\n"
          ],
          "name": "stderr"
        },
        {
          "output_type": "stream",
          "text": [
            "lr&0.8516052896283692\\\\\n",
            "rf&0.8891976565169359\\\\\n",
            "dt&0.8888682181108395\\\\\n",
            "svm&0.8620639884899142\\\\\n"
          ],
          "name": "stdout"
        }
      ]
    },
    {
      "cell_type": "code",
      "metadata": {
        "id": "NR60gqtoYHts",
        "outputId": "74342082-bc36-474d-becf-b8549904f14d",
        "colab": {
          "base_uri": "https://localhost:8080/",
          "height": 756
        }
      },
      "source": [
        "%matplotlib inline\n",
        "import numpy as np\n",
        "import matplotlib.pyplot as plt\n",
        "from sklearn.pipeline import Pipeline\n",
        "import pandas as pd\n",
        "import csv\n",
        "from google.colab import drive\n",
        "\n",
        "\n",
        "from sklearn.naive_bayes import BernoulliNB, MultinomialNB\n",
        "from sklearn.svm import SVC\n",
        "from sklearn.neural_network import MLPClassifier\n",
        "from sklearn.neighbors import KNeighborsClassifier\n",
        "from sklearn.linear_model import LogisticRegression\n",
        "from sklearn.tree import DecisionTreeClassifier\n",
        "from sklearn.ensemble import RandomForestClassifier\n",
        "\n",
        "from sklearn.model_selection import GridSearchCV\n",
        "from sklearn.metrics import precision_recall_fscore_support, precision_score, recall_score\n",
        "from sklearn.metrics import confusion_matrix\n",
        "from sklearn.model_selection import cross_val_score, cross_validate, cross_val_predict\n",
        "\n",
        "from google.colab import drive\n",
        "drive.mount('/content/gdrive')\n",
        "path_folder =\"/content/gdrive/My Drive/PhD/Prosper/\"\n",
        "\n",
        "df = pd.read_excel(path_folder+'features_data_with_label_v2.xlsx')\n",
        "print(df['date'])\n",
        "df['month']=df['date'].apply(lambda x: int(x.split('/')[1]))\n",
        "print(df['month'])\n",
        "\n",
        "df_first = df.loc[df['month'] <= 8]\n",
        "print('training all: '+str(df_first.shape[0]))\n",
        "df_training = df_first.loc[df_first['anomaly'] == 0]\n",
        "print(df_training.shape[0])\n",
        "\n",
        "df_testing = df.loc[df['month'] > 8]\n",
        "print(df_testing.shape[0])\n",
        "\n",
        "df_testing_anomaly = df.loc[df['anomaly'] == 1]\n",
        "print(df_testing_anomaly.shape[0])\n",
        "\n",
        "X = df_training[['number_of_create' , 'number_of_read' , 'number_of_update' , 'number_of_delete' , 'number_of_patient_record' , 'number_of_unique_patient_record' , 'number_of_modules' , 'number_of_report_module' , 'number_of_finance_module' , 'number_of_patient_module' , 'number_of_lab_module' , 'number_of_pharmacy_module' , 'number_of_access_warning' , 'number_of_outside_access' , 'number_of_browser' , 'number_of_chrome' , 'number_of_ie' , 'number_of_safari' , 'number_of_firefox' , 'number_of_otherbrowser' , 'anomaly']]\n",
        "y = df_training['employee_role']\n",
        "\n",
        "S = df_testing[['number_of_create' , 'number_of_read' , 'number_of_update' , 'number_of_delete' , 'number_of_patient_record' , 'number_of_unique_patient_record' , 'number_of_modules' , 'number_of_report_module' , 'number_of_finance_module' , 'number_of_patient_module' , 'number_of_lab_module' , 'number_of_pharmacy_module' , 'number_of_access_warning' , 'number_of_outside_access' , 'number_of_browser' , 'number_of_chrome' , 'number_of_ie' , 'number_of_safari' , 'number_of_firefox' , 'number_of_otherbrowser' , 'anomaly']]\n",
        "t = df_testing['employee_role'].values.tolist()\n",
        "\n",
        "\n",
        "anomaly_list = df_testing['anomaly'].values.tolist()\n",
        "\n",
        "param_grid = [\n",
        "  {'C': [1, 10, 100, 1000]}\n",
        " ]\n",
        "\n",
        "bern_nb = Pipeline([('scale', StandardScaler()), (\"bernoulli nb\", BernoulliNB())])\n",
        "mult_nb = Pipeline([('scale', StandardScaler()), (\"multinomial nb\", MultinomialNB())])\n",
        "svm = Pipeline([('scale', StandardScaler()), (\"linear svc\", SVC(kernel='linear', probability=True))])\n",
        "nn = Pipeline([('scale', StandardScaler()), (\"neural network\", MLPClassifier())])\n",
        "knn = Pipeline([('scale', StandardScaler()), (\"multinomial nb\",  KNeighborsClassifier(5))])\n",
        "lr = Pipeline([('scale', StandardScaler()), (\"multinomial nb\",  LogisticRegression())])\n",
        "rf = Pipeline([('scale', StandardScaler()), (\"multinomial nb\", RandomForestClassifier())])\n",
        "dt = Pipeline([('scale', StandardScaler()), (\"multinomial nb\", DecisionTreeClassifier())])\n",
        "\n",
        "all_models = [\n",
        "    (\"bern_nb\", bern_nb),\n",
        "    (\"nn\", nn),\n",
        "    (\"knn\", knn),\n",
        "    (\"lr\", lr),\n",
        "    (\"rf\", rf),\n",
        "    (\"dt\", dt),\n",
        "    (\"svm\", svm)\n",
        "]\n",
        "\n",
        "for name, model in all_models: \n",
        "  clf=model\n",
        "  #print(name)\n",
        "  clf.fit(X, y)\n",
        "  result = clf.predict(S)\n",
        "  #print(result)\n",
        "  idx=0\n",
        "  tp=0\n",
        "  tn=0\n",
        "  fp=0\n",
        "  fn=0\n",
        "  for res in result:\n",
        "    if(res==t[idx]):\n",
        "      if(anomaly_list[idx]==0):\n",
        "        tn=tn+1\n",
        "      else:\n",
        "        fn=fn+1\n",
        "    else:\n",
        "      if(anomaly_list[idx]==1):\n",
        "        tp=tp+1\n",
        "      else:\n",
        "        fp=fp+1\n",
        "    idx=idx+1\n",
        "  acc = float ((tp+tn)/(tp+tn+fp+fn))\n",
        "  prec = float (tp/(tp+fp))\n",
        "  rec =  float (tp/(tp+fn))\n",
        "  f1=2*prec*rec/(prec+rec)\n",
        "  print(name+' & '+ str(acc) + ' & ' +str(prec)+ ' & ' +str(rec)+ ' & ' +str(f1)+ '\\\\\\\\')\n"
      ],
      "execution_count": null,
      "outputs": [
        {
          "output_type": "stream",
          "text": [
            "Drive already mounted at /content/gdrive; to attempt to forcibly remount, call drive.mount(\"/content/gdrive\", force_remount=True).\n",
            "0        01/01\n",
            "1        03/02\n",
            "2        05/02\n",
            "3        13/02\n",
            "4        03/03\n",
            "         ...  \n",
            "24643    22/12\n",
            "24644    24/12\n",
            "24645    26/12\n",
            "24646    28/12\n",
            "24647    30/12\n",
            "Name: date, Length: 24648, dtype: object\n",
            "0         1\n",
            "1         2\n",
            "2         2\n",
            "3         2\n",
            "4         3\n",
            "         ..\n",
            "24643    12\n",
            "24644    12\n",
            "24645    12\n",
            "24646    12\n",
            "24647    12\n",
            "Name: month, Length: 24648, dtype: int64\n",
            "training all: 16512\n",
            "16203\n",
            "8136\n",
            "362\n",
            "bern_nb & 0.727630285152409 & 0.020399113082039913 & 0.8679245283018868 & 0.03986135181975737\\\\\n",
            "nn & 0.9138397246804326 & 0.04874651810584958 & 0.660377358490566 & 0.0907911802853437\\\\\n",
            "knn & 0.8926991150442478 & 0.0319634703196347 & 0.5283018867924528 & 0.060279870828848225\\\\\n"
          ],
          "name": "stdout"
        },
        {
          "output_type": "stream",
          "text": [
            "/usr/local/lib/python3.6/dist-packages/sklearn/linear_model/_logistic.py:940: ConvergenceWarning: lbfgs failed to converge (status=1):\n",
            "STOP: TOTAL NO. of ITERATIONS REACHED LIMIT.\n",
            "\n",
            "Increase the number of iterations (max_iter) or scale the data as shown in:\n",
            "    https://scikit-learn.org/stable/modules/preprocessing.html\n",
            "Please also refer to the documentation for alternative solver options:\n",
            "    https://scikit-learn.org/stable/modules/linear_model.html#logistic-regression\n",
            "  extra_warning_msg=_LOGISTIC_SOLVER_CONVERGENCE_MSG)\n"
          ],
          "name": "stderr"
        },
        {
          "output_type": "stream",
          "text": [
            "lr & 0.8788102261553589 & 0.0254323499491353 & 0.4716981132075472 & 0.04826254826254827\\\\\n",
            "rf & 0.913102261553589 & 0.04073033707865169 & 0.5471698113207547 & 0.0758169934640523\\\\\n",
            "dt & 0.9137168141592921 & 0.049930651872399444 & 0.6792452830188679 & 0.09302325581395349\\\\\n",
            "svm & 0.8887659783677483 & 0.02348993288590604 & 0.39622641509433965 & 0.044350580781414996\\\\\n"
          ],
          "name": "stdout"
        }
      ]
    },
    {
      "cell_type": "code",
      "metadata": {
        "id": "lm6doIqOiWqu",
        "outputId": "1dfad91d-c6bf-4575-a513-5de4b5374804",
        "colab": {
          "base_uri": "https://localhost:8080/",
          "height": 826
        }
      },
      "source": [
        "%matplotlib inline\n",
        "import numpy as np\n",
        "import matplotlib.pyplot as plt\n",
        "from sklearn.pipeline import Pipeline\n",
        "import pandas as pd\n",
        "import csv\n",
        "from google.colab import drive\n",
        "\n",
        "\n",
        "from sklearn.naive_bayes import BernoulliNB, MultinomialNB\n",
        "from sklearn.svm import SVC\n",
        "from sklearn.neural_network import MLPClassifier\n",
        "from sklearn.neighbors import KNeighborsClassifier\n",
        "from sklearn.linear_model import LogisticRegression\n",
        "from sklearn.tree import DecisionTreeClassifier\n",
        "from sklearn.ensemble import RandomForestClassifier\n",
        "\n",
        "from sklearn.model_selection import GridSearchCV\n",
        "from sklearn.metrics import precision_recall_fscore_support, precision_score, recall_score\n",
        "from sklearn.metrics import confusion_matrix\n",
        "from sklearn.model_selection import cross_val_score, cross_validate, cross_val_predict\n",
        "\n",
        "from google.colab import drive\n",
        "drive.mount('/content/gdrive')\n",
        "path_folder =\"/content/gdrive/My Drive/PhD/Prosper/\"\n",
        "\n",
        "df = pd.read_excel(path_folder+'features_data_with_label_v2.xlsx')\n",
        "print(df['date'])\n",
        "df['month']=df['date'].apply(lambda x: int(x.split('/')[1]))\n",
        "print(df['month'])\n",
        "\n",
        "df_first = df.loc[df['month'] <= 8]\n",
        "print('training all: '+str(df_first.shape[0]))\n",
        "df_training = df_first.loc[df_first['anomaly'] == 0]\n",
        "print(df_training.shape[0])\n",
        "\n",
        "df_testing = df.loc[df['month'] > 8]\n",
        "print(df_testing.shape[0])\n",
        "\n",
        "df_testing_anomaly = df.loc[df['anomaly'] == 1]\n",
        "print(df_testing_anomaly.shape[0])\n",
        "\n",
        "X = df_training[['number_of_create' , 'number_of_read' , 'number_of_update' , 'number_of_delete' , 'number_of_patient_record' , 'number_of_unique_patient_record' , 'number_of_modules' , 'number_of_report_module' , 'number_of_finance_module' , 'number_of_patient_module' , 'number_of_lab_module' , 'number_of_pharmacy_module' , 'number_of_access_warning' , 'number_of_outside_access' , 'number_of_browser' , 'number_of_chrome' , 'number_of_ie' , 'number_of_safari' , 'number_of_firefox' , 'number_of_otherbrowser' , 'anomaly']]\n",
        "y = df_training['employee_role']\n",
        "\n",
        "S = df_testing[['number_of_create' , 'number_of_read' , 'number_of_update' , 'number_of_delete' , 'number_of_patient_record' , 'number_of_unique_patient_record' , 'number_of_modules' , 'number_of_report_module' , 'number_of_finance_module' , 'number_of_patient_module' , 'number_of_lab_module' , 'number_of_pharmacy_module' , 'number_of_access_warning' , 'number_of_outside_access' , 'number_of_browser' , 'number_of_chrome' , 'number_of_ie' , 'number_of_safari' , 'number_of_firefox' , 'number_of_otherbrowser' , 'anomaly']]\n",
        "t = df_testing['employee_role'].values.tolist()\n",
        "\n",
        "\n",
        "anomaly_list = df_testing['anomaly'].values.tolist()\n",
        "\n",
        "param_grid = [\n",
        "  {'C': [1, 10, 100, 1000]}\n",
        " ]\n",
        "\n",
        "bern_nb = Pipeline([('scale', MinMaxScaler()), (\"bernoulli nb\", BernoulliNB())])\n",
        "mult_nb = Pipeline([('scale', MinMaxScaler()), (\"multinomial nb\", MultinomialNB())])\n",
        "svm = Pipeline([('scale', MinMaxScaler()), (\"linear svc\", SVC(kernel='linear', probability=True))])\n",
        "nn = Pipeline([('scale', MinMaxScaler()), (\"neural network\", MLPClassifier())])\n",
        "knn = Pipeline([('scale', MinMaxScaler()), (\"multinomial nb\",  KNeighborsClassifier(5))])\n",
        "lr = Pipeline([('scale', MinMaxScaler()), (\"multinomial nb\",  LogisticRegression())])\n",
        "rf = Pipeline([('scale', MinMaxScaler()), (\"multinomial nb\", RandomForestClassifier())])\n",
        "dt = Pipeline([('scale', MinMaxScaler()), (\"multinomial nb\", DecisionTreeClassifier())])\n",
        "\n",
        "all_models = [\n",
        "    (\"mult_nb\", mult_nb),\n",
        "    (\"bern_nb\", bern_nb),\n",
        "    (\"nn\", nn),\n",
        "    (\"knn\", knn),\n",
        "    (\"lr\", lr),\n",
        "    (\"rf\", rf),\n",
        "    (\"dt\", dt),\n",
        "    (\"svm\", svm)\n",
        "]\n",
        "\n",
        "\n",
        "for name, model in all_models: \n",
        "  clf=model\n",
        "  #print(name)\n",
        "  clf.fit(X, y)\n",
        "  result = clf.predict(S)\n",
        "  #print(result)\n",
        "  idx=0\n",
        "  tp=0\n",
        "  tn=0\n",
        "  fp=0\n",
        "  fn=0\n",
        "  for res in result:\n",
        "    if(res==t[idx]):\n",
        "      if(anomaly_list[idx]==0):\n",
        "        tn=tn+1\n",
        "      else:\n",
        "        fn=fn+1\n",
        "    else:\n",
        "      if(anomaly_list[idx]==1):\n",
        "        tp=tp+1\n",
        "      else:\n",
        "        fp=fp+1\n",
        "    idx=idx+1\n",
        "  acc = float ((tp+tn)/(tp+tn+fp+fn))\n",
        "  prec = float (tp/(tp+fp))\n",
        "  rec =  float (tp/(tp+fn))\n",
        "  f1=2*prec*rec/(prec+rec)\n",
        "  print(name+' & '+ str(acc) + ' & ' +str(prec)+ ' & ' +str(rec)+ ' & ' +str(f1)+ '\\\\\\\\')\n"
      ],
      "execution_count": null,
      "outputs": [
        {
          "output_type": "stream",
          "text": [
            "Drive already mounted at /content/gdrive; to attempt to forcibly remount, call drive.mount(\"/content/gdrive\", force_remount=True).\n",
            "0        01/01\n",
            "1        03/02\n",
            "2        05/02\n",
            "3        13/02\n",
            "4        03/03\n",
            "         ...  \n",
            "24643    22/12\n",
            "24644    24/12\n",
            "24645    26/12\n",
            "24646    28/12\n",
            "24647    30/12\n",
            "Name: date, Length: 24648, dtype: object\n",
            "0         1\n",
            "1         2\n",
            "2         2\n",
            "3         2\n",
            "4         3\n",
            "         ..\n",
            "24643    12\n",
            "24644    12\n",
            "24645    12\n",
            "24646    12\n",
            "24647    12\n",
            "Name: month, Length: 24648, dtype: int64\n",
            "training all: 16512\n",
            "16203\n",
            "8136\n",
            "362\n",
            "mult_nb & 0.7150934119960669 & 0.01910828025477707 & 0.8490566037735849 & 0.03737541528239202\\\\\n",
            "bern_nb & 0.7763028515240905 & 0.02474448628294782 & 0.8679245283018868 & 0.04811715481171548\\\\\n"
          ],
          "name": "stdout"
        },
        {
          "output_type": "stream",
          "text": [
            "/usr/local/lib/python3.6/dist-packages/sklearn/neural_network/_multilayer_perceptron.py:571: ConvergenceWarning: Stochastic Optimizer: Maximum iterations (200) reached and the optimization hasn't converged yet.\n",
            "  % self.max_iter, ConvergenceWarning)\n"
          ],
          "name": "stderr"
        },
        {
          "output_type": "stream",
          "text": [
            "nn & 0.9095378564405113 & 0.03913630229419703 & 0.5471698113207547 & 0.07304785894206549\\\\\n",
            "knn & 0.9126106194690266 & 0.040502793296089384 & 0.5471698113207547 & 0.0754226267880364\\\\\n"
          ],
          "name": "stdout"
        },
        {
          "output_type": "stream",
          "text": [
            "/usr/local/lib/python3.6/dist-packages/sklearn/linear_model/_logistic.py:940: ConvergenceWarning: lbfgs failed to converge (status=1):\n",
            "STOP: TOTAL NO. of ITERATIONS REACHED LIMIT.\n",
            "\n",
            "Increase the number of iterations (max_iter) or scale the data as shown in:\n",
            "    https://scikit-learn.org/stable/modules/preprocessing.html\n",
            "Please also refer to the documentation for alternative solver options:\n",
            "    https://scikit-learn.org/stable/modules/linear_model.html#logistic-regression\n",
            "  extra_warning_msg=_LOGISTIC_SOLVER_CONVERGENCE_MSG)\n"
          ],
          "name": "stderr"
        },
        {
          "output_type": "stream",
          "text": [
            "lr & 0.846976401179941 & 0.009060955518945634 & 0.20754716981132076 & 0.017363851617995262\\\\\n",
            "rf & 0.913102261553589 & 0.04073033707865169 & 0.5471698113207547 & 0.0758169934640523\\\\\n",
            "dt & 0.9134709931170109 & 0.04979253112033195 & 0.6792452830188679 & 0.09278350515463916\\\\\n",
            "svm & 0.8565634218289085 & 0.007079646017699115 & 0.1509433962264151 & 0.013524936601859678\\\\\n"
          ],
          "name": "stdout"
        }
      ]
    },
    {
      "cell_type": "code",
      "metadata": {
        "id": "2KUN8nFssQfq",
        "outputId": "87969fad-5d22-46e2-ba8b-9d38053bb2ce",
        "colab": {
          "base_uri": "https://localhost:8080/",
          "height": 1000
        }
      },
      "source": [
        "from sklearn.preprocessing import StandardScaler\n",
        "from sklearn import preprocessing\n",
        "from sklearn.preprocessing import MinMaxScaler\n",
        "%matplotlib inline\n",
        "import numpy as np\n",
        "import matplotlib.pyplot as plt\n",
        "from sklearn.pipeline import Pipeline\n",
        "import pandas as pd\n",
        "import csv\n",
        "from google.colab import drive\n",
        "\n",
        "\n",
        "from sklearn.naive_bayes import BernoulliNB, MultinomialNB\n",
        "from sklearn.svm import SVC\n",
        "from sklearn.neural_network import MLPClassifier\n",
        "from sklearn.neighbors import KNeighborsClassifier\n",
        "from sklearn.linear_model import LogisticRegression\n",
        "from sklearn.tree import DecisionTreeClassifier\n",
        "from sklearn.ensemble import RandomForestClassifier\n",
        "\n",
        "from sklearn.model_selection import GridSearchCV\n",
        "from sklearn.metrics import precision_recall_fscore_support, precision_score, recall_score\n",
        "from sklearn.metrics import confusion_matrix\n",
        "from sklearn.model_selection import cross_val_score, cross_validate, cross_val_predict\n",
        "\n",
        "from google.colab import drive\n",
        "drive.mount('/content/gdrive')\n",
        "path_folder =\"/content/gdrive/My Drive/PhD/Prosper/\"\n",
        "\n",
        "df = pd.read_excel(path_folder+'features_data_with_label_v2.xlsx')\n",
        "print(df['date'])\n",
        "df['month']=df['date'].apply(lambda x: int(x.split('/')[1]))\n",
        "print(df['month'])\n",
        "\n",
        "df_first = df.loc[df['month'] <= 8]\n",
        "print(df_first)\n",
        "df_training = df_first.loc[df_first['anomaly'] == 0]\n",
        "print(df_training)\n",
        "\n",
        "df_testing = df.loc[df['month'] > 8]\n",
        "print(df_testing)\n",
        "\n",
        "X = df_training[['number_of_create' , 'number_of_read' , 'number_of_update' , 'number_of_delete' , 'number_of_patient_record' , 'number_of_unique_patient_record' , 'number_of_modules' , 'number_of_report_module' , 'number_of_finance_module' , 'number_of_patient_module' , 'number_of_lab_module' , 'number_of_pharmacy_module' , 'number_of_access_warning' , 'number_of_outside_access' , 'number_of_browser' , 'number_of_chrome' , 'number_of_ie' , 'number_of_safari' , 'number_of_firefox' , 'number_of_otherbrowser' , 'anomaly']]\n",
        "y = df_training['employee_role']\n",
        "\n",
        "S = df_testing[['number_of_create' , 'number_of_read' , 'number_of_update' , 'number_of_delete' , 'number_of_patient_record' , 'number_of_unique_patient_record' , 'number_of_modules' , 'number_of_report_module' , 'number_of_finance_module' , 'number_of_patient_module' , 'number_of_lab_module' , 'number_of_pharmacy_module' , 'number_of_access_warning' , 'number_of_outside_access' , 'number_of_browser' , 'number_of_chrome' , 'number_of_ie' , 'number_of_safari' , 'number_of_firefox' , 'number_of_otherbrowser' , 'anomaly']]\n",
        "t = df_testing['employee_role'].values.tolist()\n",
        "\n",
        "\n",
        "anomaly_list = df_testing['anomaly'].values.tolist()\n",
        "\n",
        "param_grid = [\n",
        "  {'C': [1, 10, 100, 1000]}\n",
        " ]\n",
        "\n",
        "bern_nb = Pipeline([('scale', StandardScaler()), (\"bernoulli nb\", BernoulliNB())])\n",
        "mult_nb = Pipeline([('scale', StandardScaler()), (\"multinomial nb\", MultinomialNB())])\n",
        "svm = Pipeline([('scale', StandardScaler()), (\"linear svc\", SVC(kernel='linear', probability=True))])\n",
        "nn = Pipeline([('scale', StandardScaler()), (\"neural network\", MLPClassifier())])\n",
        "knn = Pipeline([('scale', StandardScaler()), (\"multinomial nb\",  KNeighborsClassifier(5))])\n",
        "lr = Pipeline([('scale', StandardScaler()), (\"multinomial nb\",  LogisticRegression())])\n",
        "rf = Pipeline([('scale', StandardScaler()), (\"multinomial nb\", RandomForestClassifier())])\n",
        "dt = Pipeline([('scale', StandardScaler()), (\"multinomial nb\", DecisionTreeClassifier())])\n",
        "\n",
        "all_models = [\n",
        "    (\"bern_nb\", bern_nb),\n",
        "    (\"nn\", nn),\n",
        "    (\"knn\", knn),\n",
        "    (\"lr\", lr),\n",
        "    (\"rf\", rf),\n",
        "    (\"dt\", dt),\n",
        "    (\"svm\", svm)\n",
        "]\n",
        "\n",
        "th_list = np.arange(0.05, 1.0, 0.05)\n",
        "print(th_list)\n",
        "allacc_list=[]\n",
        "allprec_list=[]\n",
        "allrec_list=[]\n",
        "allf1_list=[]\n",
        "allth_list=[]\n",
        "\n",
        "for name, model in all_models: \n",
        "  clf=model\n",
        "  #print(name)\n",
        "  clf.fit(X, y)\n",
        "  result = clf.predict_proba(S)\n",
        "  #print(result)\n",
        "  \n",
        "  list_class = clf.classes_.tolist()\n",
        "  acc_list=[]\n",
        "  prec_list=[]\n",
        "  rec_list=[]\n",
        "  f1_list=[]\n",
        "  for threshold in th_list:\n",
        "    idx=0\n",
        "    tp=0\n",
        "    tn=0\n",
        "    fp=0\n",
        "    fn=0\n",
        "    for res in result:\n",
        "      if(res[list_class.index(t[idx])]>threshold):\n",
        "        if(anomaly_list[idx]==0):\n",
        "          tn=tn+1\n",
        "        else:\n",
        "          fn=fn+1\n",
        "      else:\n",
        "        if(anomaly_list[idx]==1):\n",
        "          tp=tp+1\n",
        "        else:\n",
        "          fp=fp+1\n",
        "      idx=idx+1\n",
        "    acc = float ((tp+tn)/(tp+tn+fp+fn))\n",
        "    prec = float (tp/(tp+fp))\n",
        "    rec =  float (tp/(tp+fn))\n",
        "    f1=2*prec*rec/(prec+rec)\n",
        "    #print(name+' & '+ str(acc) + ' & ' +str(prec)+ ' & ' +str(rec)+ ' & ' +str(f1)+ '\\\\\\\\')\n",
        "    #th_list.append(threshold)\n",
        "    acc_list.append(acc)\n",
        "    prec_list.append(prec)\n",
        "    rec_list.append(rec)\n",
        "    f1_list.append(f1)\n",
        "  allacc_list.append(acc_list)\n",
        "  allprec_list.append(prec_list)\n",
        "  allrec_list.append(rec_list)\n",
        "  allf1_list.append(f1_list) \n",
        "  "
      ],
      "execution_count": null,
      "outputs": [
        {
          "output_type": "stream",
          "text": [
            "Drive already mounted at /content/gdrive; to attempt to forcibly remount, call drive.mount(\"/content/gdrive\", force_remount=True).\n",
            "0        01/01\n",
            "1        03/02\n",
            "2        05/02\n",
            "3        13/02\n",
            "4        03/03\n",
            "         ...  \n",
            "24643    22/12\n",
            "24644    24/12\n",
            "24645    26/12\n",
            "24646    28/12\n",
            "24647    30/12\n",
            "Name: date, Length: 24648, dtype: object\n",
            "0         1\n",
            "1         2\n",
            "2         2\n",
            "3         2\n",
            "4         3\n",
            "         ..\n",
            "24643    12\n",
            "24644    12\n",
            "24645    12\n",
            "24646    12\n",
            "24647    12\n",
            "Name: month, Length: 24648, dtype: int64\n",
            "      employeeID   date employee_role  ...  number_of_otherbrowser  anomaly  month\n",
            "0          emp_0  01/01    Head of IT  ...                       0        0      1\n",
            "1          emp_0  03/02    Head of IT  ...                       0        0      2\n",
            "2          emp_0  05/02    Head of IT  ...                       0        0      2\n",
            "3          emp_0  13/02    Head of IT  ...                       0        0      2\n",
            "4          emp_0  03/03    Head of IT  ...                       0        0      3\n",
            "...          ...    ...           ...  ...                     ...      ...    ...\n",
            "24584     emp_99  22/08         Nurse  ...                       0        0      8\n",
            "24585     emp_99  24/08         Nurse  ...                       0        0      8\n",
            "24586     emp_99  26/08         Nurse  ...                       0        0      8\n",
            "24587     emp_99  28/08         Nurse  ...                       0        0      8\n",
            "24588     emp_99  30/08         Nurse  ...                       0        0      8\n",
            "\n",
            "[16512 rows x 25 columns]\n",
            "      employeeID   date employee_role  ...  number_of_otherbrowser  anomaly  month\n",
            "0          emp_0  01/01    Head of IT  ...                       0        0      1\n",
            "1          emp_0  03/02    Head of IT  ...                       0        0      2\n",
            "2          emp_0  05/02    Head of IT  ...                       0        0      2\n",
            "3          emp_0  13/02    Head of IT  ...                       0        0      2\n",
            "4          emp_0  03/03    Head of IT  ...                       0        0      3\n",
            "...          ...    ...           ...  ...                     ...      ...    ...\n",
            "24584     emp_99  22/08         Nurse  ...                       0        0      8\n",
            "24585     emp_99  24/08         Nurse  ...                       0        0      8\n",
            "24586     emp_99  26/08         Nurse  ...                       0        0      8\n",
            "24587     emp_99  28/08         Nurse  ...                       0        0      8\n",
            "24588     emp_99  30/08         Nurse  ...                       0        0      8\n",
            "\n",
            "[16203 rows x 25 columns]\n",
            "      employeeID   date employee_role  ...  number_of_otherbrowser  anomaly  month\n",
            "13         emp_0  01/09    Head of IT  ...                       0        0      9\n",
            "14         emp_0  03/09    Head of IT  ...                       0        0      9\n",
            "15         emp_0  01/10    Head of IT  ...                       0        0     10\n",
            "16         emp_0  29/10    Head of IT  ...                       0        0     10\n",
            "17         emp_0  03/11    Head of IT  ...                       0        0     11\n",
            "...          ...    ...           ...  ...                     ...      ...    ...\n",
            "24643     emp_99  22/12         Nurse  ...                       0        0     12\n",
            "24644     emp_99  24/12         Nurse  ...                       0        0     12\n",
            "24645     emp_99  26/12         Nurse  ...                       0        0     12\n",
            "24646     emp_99  28/12         Nurse  ...                       0        0     12\n",
            "24647     emp_99  30/12         Nurse  ...                       0        0     12\n",
            "\n",
            "[8136 rows x 25 columns]\n",
            "[0.05 0.1  0.15 0.2  0.25 0.3  0.35 0.4  0.45 0.5  0.55 0.6  0.65 0.7\n",
            " 0.75 0.8  0.85 0.9  0.95]\n"
          ],
          "name": "stdout"
        },
        {
          "output_type": "stream",
          "text": [
            "/usr/local/lib/python3.6/dist-packages/sklearn/linear_model/_logistic.py:940: ConvergenceWarning: lbfgs failed to converge (status=1):\n",
            "STOP: TOTAL NO. of ITERATIONS REACHED LIMIT.\n",
            "\n",
            "Increase the number of iterations (max_iter) or scale the data as shown in:\n",
            "    https://scikit-learn.org/stable/modules/preprocessing.html\n",
            "Please also refer to the documentation for alternative solver options:\n",
            "    https://scikit-learn.org/stable/modules/linear_model.html#logistic-regression\n",
            "  extra_warning_msg=_LOGISTIC_SOLVER_CONVERGENCE_MSG)\n"
          ],
          "name": "stderr"
        }
      ]
    },
    {
      "cell_type": "code",
      "metadata": {
        "id": "0ol-1b1RkNa1",
        "outputId": "0ab66ada-9b2d-4d0b-89b2-55ffaa6b0b1f",
        "colab": {
          "base_uri": "https://localhost:8080/",
          "height": 140
        }
      },
      "source": [
        "idx=0\n",
        "for name, model in all_models:\n",
        "  print(name + '&'+ str(allf1_list[idx][1]))\n",
        "  idx+=1"
      ],
      "execution_count": null,
      "outputs": [
        {
          "output_type": "stream",
          "text": [
            "bern_nb&0.09090909090909091\n",
            "nn&0.5483870967741935\n",
            "knn&0.04561003420752566\n",
            "lr&0.20618556701030932\n",
            "rf&0.3770491803278688\n",
            "dt&0.48226950354609927\n",
            "svm&0.18433179723502305\n"
          ],
          "name": "stdout"
        }
      ]
    },
    {
      "cell_type": "code",
      "metadata": {
        "id": "LWpoZ5Qfk2jm",
        "outputId": "dad0e98f-6947-4aeb-e895-eb43ab18cb40",
        "colab": {
          "base_uri": "https://localhost:8080/",
          "height": 160
        }
      },
      "source": [
        "idx=0\n",
        "for name, model in all_models:\n",
        "  print(allrec_list[idx])\n",
        "  idx+=1"
      ],
      "execution_count": null,
      "outputs": [
        {
          "output_type": "stream",
          "text": [
            "[0.8301886792452831, 0.8301886792452831, 0.8679245283018868, 0.8679245283018868, 0.8679245283018868, 0.8679245283018868, 0.8679245283018868, 0.8679245283018868, 0.8679245283018868, 0.8679245283018868, 0.8679245283018868, 0.8679245283018868, 0.8679245283018868, 0.8679245283018868, 0.8679245283018868, 0.8679245283018868, 0.8679245283018868, 0.8679245283018868, 0.8679245283018868]\n",
            "[0.5094339622641509, 0.6415094339622641, 0.6415094339622641, 0.6415094339622641, 0.6415094339622641, 0.6415094339622641, 0.660377358490566, 0.660377358490566, 0.660377358490566, 0.660377358490566, 0.660377358490566, 0.660377358490566, 0.660377358490566, 0.660377358490566, 0.660377358490566, 0.660377358490566, 0.660377358490566, 0.660377358490566, 0.6792452830188679]\n",
            "[0.37735849056603776, 0.37735849056603776, 0.37735849056603776, 0.5283018867924528, 0.5283018867924528, 0.5283018867924528, 0.5283018867924528, 0.5283018867924528, 0.5283018867924528, 0.5283018867924528, 0.5283018867924528, 0.5660377358490566, 0.5660377358490566, 0.5660377358490566, 0.5660377358490566, 0.6226415094339622, 0.6226415094339622, 0.6226415094339622, 0.6226415094339622]\n",
            "[0.11320754716981132, 0.18867924528301888, 0.20754716981132076, 0.24528301886792453, 0.24528301886792453, 0.3018867924528302, 0.3018867924528302, 0.39622641509433965, 0.41509433962264153, 0.4716981132075472, 0.4716981132075472, 0.5094339622641509, 0.5471698113207547, 0.5660377358490566, 0.6037735849056604, 0.6226415094339622, 0.7547169811320755, 0.8301886792452831, 0.8301886792452831]\n",
            "[0.3584905660377358, 0.4339622641509434, 0.5094339622641509, 0.5471698113207547, 0.5471698113207547, 0.5471698113207547, 0.5471698113207547, 0.5471698113207547, 0.5660377358490566, 0.6037735849056604, 0.660377358490566, 0.6792452830188679, 0.7358490566037735, 0.7924528301886793, 0.8113207547169812, 0.8301886792452831, 0.8490566037735849, 0.8490566037735849, 0.8867924528301887]\n",
            "[0.6415094339622641, 0.6415094339622641, 0.660377358490566, 0.660377358490566, 0.660377358490566, 0.660377358490566, 0.660377358490566, 0.660377358490566, 0.660377358490566, 0.660377358490566, 0.660377358490566, 0.6792452830188679, 0.6792452830188679, 0.6792452830188679, 0.6792452830188679, 0.6792452830188679, 0.6792452830188679, 0.6792452830188679, 0.6792452830188679]\n",
            "[0.32075471698113206, 0.37735849056603776, 0.39622641509433965, 0.4339622641509434, 0.4339622641509434, 0.4339622641509434, 0.4528301886792453, 0.5094339622641509, 0.5094339622641509, 0.5471698113207547, 0.5471698113207547, 0.5660377358490566, 0.6981132075471698, 0.6981132075471698, 0.7358490566037735, 0.7358490566037735, 0.7358490566037735, 0.7547169811320755, 0.7924528301886793]\n"
          ],
          "name": "stdout"
        }
      ]
    },
    {
      "cell_type": "code",
      "metadata": {
        "id": "E8clu-Cwk7j_",
        "outputId": "2d91b001-56eb-454c-84db-65cdc783a8f5",
        "colab": {
          "base_uri": "https://localhost:8080/",
          "height": 160
        }
      },
      "source": [
        "idx=0\n",
        "for name, model in all_models:\n",
        "  print(allprec_list[idx])\n",
        "  idx+=1"
      ],
      "execution_count": null,
      "outputs": [
        {
          "output_type": "stream",
          "text": [
            "[0.055345911949685536, 0.048087431693989074, 0.046464646464646465, 0.032857142857142856, 0.022083533365338453, 0.022072936660268713, 0.022030651340996167, 0.022030651340996167, 0.02179062055897679, 0.02021978021978022, 0.019965277777777776, 0.019965277777777776, 0.019616204690831557, 0.0195994887089902, 0.0195994887089902, 0.01809598741148702, 0.016283185840707964, 0.015699658703071672, 0.012561441835062807]\n",
            "[0.5, 0.4788732394366197, 0.12408759124087591, 0.08395061728395062, 0.07640449438202247, 0.05872193436960276, 0.05843071786310518, 0.05737704918032787, 0.04847645429362881, 0.04847645429362881, 0.04847645429362881, 0.038002171552660155, 0.03779697624190065, 0.03528225806451613, 0.027068832173240527, 0.024544179523141654, 0.01971830985915493, 0.011937244201909959, 0.011646716273050793]\n",
            "[0.024271844660194174, 0.024271844660194174, 0.024271844660194174, 0.03233256351039261, 0.03233256351039261, 0.03233256351039261, 0.03233256351039261, 0.03192702394526796, 0.03192702394526796, 0.03192702394526796, 0.03192702394526796, 0.03293084522502744, 0.03293084522502744, 0.03293084522502744, 0.03293084522502744, 0.021099744245524295, 0.021099744245524295, 0.021099744245524295, 0.021099744245524295]\n",
            "[0.2, 0.22727272727272727, 0.02702702702702703, 0.02333931777378815, 0.02226027397260274, 0.02359882005899705, 0.020887728459530026, 0.026415094339622643, 0.024390243902439025, 0.0249003984063745, 0.0235626767200754, 0.02305721605465414, 0.02392739273927393, 0.021520803443328552, 0.01904761904761905, 0.017905588714053174, 0.015631105900742476, 0.008915906788247214, 0.0071174377224199285]\n",
            "[0.4222222222222222, 0.3333333333333333, 0.14285714285714285, 0.08978328173374613, 0.060669456066945605, 0.05087719298245614, 0.04489164086687306, 0.04461538461538461, 0.04207573632538569, 0.04450625869262865, 0.048209366391184574, 0.04342581423401689, 0.04642857142857143, 0.042467138523761376, 0.03550784475639967, 0.02679658952496955, 0.020708697653014266, 0.015767344078486335, 0.015846257585974376]\n",
            "[0.4722222222222222, 0.38636363636363635, 0.17073170731707318, 0.10416666666666667, 0.07128309572301425, 0.060034305317324184, 0.0529500756429652, 0.0529500756429652, 0.04847645429362881, 0.04794520547945205, 0.04794520547945205, 0.04326923076923077, 0.04326923076923077, 0.0368474923234391, 0.03005008347245409, 0.02219482120838471, 0.016775396085740912, 0.01278409090909091, 0.012388162422573986]\n",
            "[0.4473684210526316, 0.12195121951219512, 0.11413043478260869, 0.06233062330623306, 0.03833333333333333, 0.03758169934640523, 0.0379746835443038, 0.03409090909090909, 0.033498759305210915, 0.02902902902902903, 0.029, 0.028790786948176585, 0.02690909090909091, 0.02690909090909091, 0.02037617554858934, 0.02035490605427975, 0.014744801512287334, 0.011524056467876692, 0.009012875536480686]\n"
          ],
          "name": "stdout"
        }
      ]
    },
    {
      "cell_type": "code",
      "metadata": {
        "id": "6dMYbKIls2Dx",
        "outputId": "2c216853-38aa-4f72-a957-1001fd58cff9",
        "colab": {
          "base_uri": "https://localhost:8080/",
          "height": 279
        }
      },
      "source": [
        "from matplotlib import pyplot as plt\n",
        "#print(th_list)\n",
        "idx=0\n",
        "plt.plot(th_list, [0,0,0,0,0,0,0,0,0,0,0,0,0,0,0,0,0,0,0], label='mult_nb')\n",
        "for name, model in all_models:\n",
        "  plt.plot(th_list, allf1_list[idx], label=name)\n",
        "  idx+=1\n",
        "plt.legend()\n",
        "plt.xlabel(\"Threshold\")\n",
        "plt.ylabel(\"F1 score\")\n",
        "plt.show()"
      ],
      "execution_count": null,
      "outputs": [
        {
          "output_type": "display_data",
          "data": {
            "image/png": "[encoded data removed]",
            "text/plain": [
              "<Figure size 432x288 with 1 Axes>"
            ]
          },
          "metadata": {
            "tags": [],
            "needs_background": "light"
          }
        }
      ]
    },
    {
      "cell_type": "code",
      "metadata": {
        "id": "C25JUmUIs4yf",
        "outputId": "9f197fac-d8d8-4294-db16-448cc865f067",
        "colab": {
          "base_uri": "https://localhost:8080/",
          "height": 279
        }
      },
      "source": [
        "from matplotlib import pyplot as plt\n",
        "#print(th_list)\n",
        "idx=0\n",
        "plt.plot(th_list, [0,0,0,0,0,0,0,0,0,0,0,0,0,0,0,0,0,0,0], label='mult_nb')\n",
        "for name, model in all_models:\n",
        "  plt.plot(th_list, allprec_list[idx], label=name)\n",
        "  idx+=1\n",
        "plt.legend()\n",
        "plt.xlabel(\"Threshold\")\n",
        "plt.ylabel(\"Precision\")\n",
        "plt.show()"
      ],
      "execution_count": null,
      "outputs": [
        {
          "output_type": "display_data",
          "data": {
            "image/png": "[encoded data removed]",
            "text/plain": [
              "<Figure size 432x288 with 1 Axes>"
            ]
          },
          "metadata": {
            "tags": [],
            "needs_background": "light"
          }
        }
      ]
    },
    {
      "cell_type": "code",
      "metadata": {
        "id": "xp80OhBKs7MC",
        "outputId": "dfbce23b-24f1-4f3a-8b83-719062b1f585",
        "colab": {
          "base_uri": "https://localhost:8080/",
          "height": 279
        }
      },
      "source": [
        "from matplotlib import pyplot as plt\n",
        "#print(th_list)\n",
        "idx=0\n",
        "plt.plot(th_list, [0,0,0,0,0,0,0,0,0,0,0,0,0,0,0,0,0,0,0], label='mult_nb')\n",
        "for name, model in all_models:\n",
        "  plt.plot(th_list, allrec_list[idx], label=name)\n",
        "  idx+=1\n",
        "plt.legend()\n",
        "plt.xlabel(\"Threshold\")\n",
        "plt.ylabel(\"Recall\")\n",
        "plt.show()"
      ],
      "execution_count": null,
      "outputs": [
        {
          "output_type": "display_data",
          "data": {
            "image/png": "[encoded data removed]",
            "text/plain": [
              "<Figure size 432x288 with 1 Axes>"
            ]
          },
          "metadata": {
            "tags": [],
            "needs_background": "light"
          }
        }
      ]
    },
    {
      "cell_type": "code",
      "metadata": {
        "id": "qiCbZ8DQ4cSz",
        "outputId": "a2d6c7f9-ba0d-44a2-b288-506f99436a66",
        "colab": {
          "base_uri": "https://localhost:8080/",
          "height": 279
        }
      },
      "source": [
        "from matplotlib import pyplot as plt\n",
        "#print(th_list)\n",
        "idx=0\n",
        "plt.plot(th_list, [0,0,0,0,0,0,0,0,0,0,0,0,0,0,0,0,0,0,0], label='mult_nb')\n",
        "for name, model in all_models:\n",
        "  plt.plot(th_list, allacc_list[idx], label=name)\n",
        "  idx+=1\n",
        "plt.legend()\n",
        "plt.xlabel(\"Threshold\")\n",
        "plt.ylabel(\"Accuracy\")\n",
        "plt.show()"
      ],
      "execution_count": null,
      "outputs": [
        {
          "output_type": "display_data",
          "data": {
            "image/png": "[encoded data removed]",
            "text/plain": [
              "<Figure size 432x288 with 1 Axes>"
            ]
          },
          "metadata": {
            "tags": [],
            "needs_background": "light"
          }
        }
      ]
    },
    {
      "cell_type": "code",
      "metadata": {
        "id": "PNE4699XtDHj",
        "outputId": "1caf2f7e-6b74-4aad-dd5b-890f74fd8c84",
        "colab": {
          "base_uri": "https://localhost:8080/",
          "height": 279
        }
      },
      "source": [
        "from matplotlib import pyplot as plt\n",
        "#print(th_list)\n",
        "idx=0\n",
        "plt.plot(th_list, [0,0,0,0,0,0,0,0,0,0,0,0,0,0,0,0,0,0,0], label='mult_nb')\n",
        "for name, model in all_models:\n",
        "  plt.plot(th_list, allacc_list[idx], label=name)\n",
        "  idx+=1\n",
        "plt.legend()\n",
        "plt.xlabel(\"Threshold\")\n",
        "plt.ylabel(\"Accuracy\")\n",
        "plt.show()"
      ],
      "execution_count": null,
      "outputs": [
        {
          "output_type": "display_data",
          "data": {
            "image/png": "[encoded data removed]",
            "text/plain": [
              "<Figure size 432x288 with 1 Axes>"
            ]
          },
          "metadata": {
            "tags": [],
            "needs_background": "light"
          }
        }
      ]
    },
    {
      "cell_type": "code",
      "metadata": {
        "id": "ws6HjT7fuTw5",
        "outputId": "88625ef9-c9f3-45ef-ea98-e75716495648",
        "colab": {
          "base_uri": "https://localhost:8080/",
          "height": 1000
        }
      },
      "source": [
        "%matplotlib inline\n",
        "import numpy as np\n",
        "import matplotlib.pyplot as plt\n",
        "from sklearn.pipeline import Pipeline\n",
        "import pandas as pd\n",
        "import csv\n",
        "from google.colab import drive\n",
        "\n",
        "\n",
        "from sklearn.naive_bayes import BernoulliNB, MultinomialNB\n",
        "from sklearn.svm import SVC\n",
        "from sklearn.neural_network import MLPClassifier\n",
        "from sklearn.neighbors import KNeighborsClassifier\n",
        "from sklearn.linear_model import LogisticRegression\n",
        "from sklearn.tree import DecisionTreeClassifier\n",
        "from sklearn.ensemble import RandomForestClassifier\n",
        "\n",
        "from sklearn.model_selection import GridSearchCV\n",
        "from sklearn.metrics import precision_recall_fscore_support, precision_score, recall_score\n",
        "from sklearn.metrics import confusion_matrix\n",
        "from sklearn.model_selection import cross_val_score, cross_validate, cross_val_predict\n",
        "\n",
        "from google.colab import drive\n",
        "drive.mount('/content/gdrive')\n",
        "path_folder =\"/content/gdrive/My Drive/PhD/Prosper/\"\n",
        "\n",
        "df = pd.read_excel(path_folder+'features_data_with_label_v2.xlsx')\n",
        "print(df['date'])\n",
        "df['month']=df['date'].apply(lambda x: int(x.split('/')[1]))\n",
        "print(df['month'])\n",
        "\n",
        "df_first = df.loc[df['month'] <= 8]\n",
        "print(df_first)\n",
        "df_training = df_first.loc[df_first['anomaly'] == 0]\n",
        "print(df_training)\n",
        "\n",
        "df_testing = df.loc[df['month'] > 8]\n",
        "print(df_testing)\n",
        "\n",
        "X = df_training[['number_of_create' , 'number_of_read' , 'number_of_update' , 'number_of_delete' , 'number_of_patient_record' , 'number_of_unique_patient_record' , 'number_of_modules' , 'number_of_report_module' , 'number_of_finance_module' , 'number_of_patient_module' , 'number_of_lab_module' , 'number_of_pharmacy_module' , 'number_of_access_warning' , 'number_of_outside_access' , 'number_of_browser' , 'number_of_chrome' , 'number_of_ie' , 'number_of_safari' , 'number_of_firefox' , 'number_of_otherbrowser' , 'anomaly']]\n",
        "y = df_training['employee_role']\n",
        "\n",
        "S = df_testing[['number_of_create' , 'number_of_read' , 'number_of_update' , 'number_of_delete' , 'number_of_patient_record' , 'number_of_unique_patient_record' , 'number_of_modules' , 'number_of_report_module' , 'number_of_finance_module' , 'number_of_patient_module' , 'number_of_lab_module' , 'number_of_pharmacy_module' , 'number_of_access_warning' , 'number_of_outside_access' , 'number_of_browser' , 'number_of_chrome' , 'number_of_ie' , 'number_of_safari' , 'number_of_firefox' , 'number_of_otherbrowser' , 'anomaly']]\n",
        "t = df_testing['employee_role'].values.tolist()\n",
        "\n",
        "\n",
        "anomaly_list = df_testing['anomaly'].values.tolist()\n",
        "\n",
        "param_grid = [\n",
        "  {'C': [1, 10, 100, 1000]}\n",
        " ]\n",
        "\n",
        "bern_nb = Pipeline([('scale', MinMaxScaler()), (\"bernoulli nb\", BernoulliNB())])\n",
        "mult_nb = Pipeline([('scale', MinMaxScaler()), (\"multinomial nb\", MultinomialNB())])\n",
        "svm = Pipeline([('scale', MinMaxScaler()), (\"linear svc\", SVC(kernel='linear', probability=True))])\n",
        "nn = Pipeline([('scale', MinMaxScaler()), (\"neural network\", MLPClassifier())])\n",
        "knn = Pipeline([('scale', MinMaxScaler()), (\"multinomial nb\",  KNeighborsClassifier(5))])\n",
        "lr = Pipeline([('scale', MinMaxScaler()), (\"multinomial nb\",  LogisticRegression())])\n",
        "rf = Pipeline([('scale', MinMaxScaler()), (\"multinomial nb\", RandomForestClassifier())])\n",
        "dt = Pipeline([('scale', MinMaxScaler()), (\"multinomial nb\", DecisionTreeClassifier())])\n",
        "\n",
        "all_models = [\n",
        "    (\"mult_nb\", mult_nb),\n",
        "    (\"bern_nb\", bern_nb),\n",
        "    (\"nn\", nn),\n",
        "    (\"knn\", knn),\n",
        "    (\"lr\", lr),\n",
        "    (\"rf\", rf),\n",
        "    (\"dt\", dt),\n",
        "    (\"svm\", svm)\n",
        "]\n",
        "\n",
        "th_list = np.arange(0.05, 1.0, 0.05)\n",
        "print(th_list)\n",
        "allacc_list=[]\n",
        "allprec_list=[]\n",
        "allrec_list=[]\n",
        "allf1_list=[]\n",
        "allth_list=[]\n",
        "\n",
        "for name, model in all_models: \n",
        "  clf=model\n",
        "  #print(name)\n",
        "  clf.fit(X, y)\n",
        "  result = clf.predict_proba(S)\n",
        "  #print(result)\n",
        "  \n",
        "  list_class = clf.classes_.tolist()\n",
        "  acc_list=[]\n",
        "  prec_list=[]\n",
        "  rec_list=[]\n",
        "  f1_list=[]\n",
        "  for threshold in th_list:\n",
        "    idx=0\n",
        "    tp=0\n",
        "    tn=0\n",
        "    fp=0\n",
        "    fn=0\n",
        "    for res in result:\n",
        "      if(res[list_class.index(t[idx])]>threshold):\n",
        "        if(anomaly_list[idx]==0):\n",
        "          tn=tn+1\n",
        "        else:\n",
        "          fn=fn+1\n",
        "      else:\n",
        "        if(anomaly_list[idx]==1):\n",
        "          tp=tp+1\n",
        "        else:\n",
        "          fp=fp+1\n",
        "      idx=idx+1\n",
        "    acc = float ((tp+tn)/(tp+tn+fp+fn))\n",
        "    prec = float (tp/(tp+fp))\n",
        "    rec =  float (tp/(tp+fn))\n",
        "    f1=2*prec*rec/(prec+rec)\n",
        "    #print(name+' & '+ str(acc) + ' & ' +str(prec)+ ' & ' +str(rec)+ ' & ' +str(f1)+ '\\\\\\\\')\n",
        "    #th_list.append(threshold)\n",
        "    acc_list.append(acc)\n",
        "    prec_list.append(prec)\n",
        "    rec_list.append(rec)\n",
        "    f1_list.append(f1)\n",
        "  allacc_list.append(acc_list)\n",
        "  allprec_list.append(prec_list)\n",
        "  allrec_list.append(rec_list)\n",
        "  allf1_list.append(f1_list) \n",
        "  "
      ],
      "execution_count": null,
      "outputs": [
        {
          "output_type": "stream",
          "text": [
            "Drive already mounted at /content/gdrive; to attempt to forcibly remount, call drive.mount(\"/content/gdrive\", force_remount=True).\n",
            "0        01/01\n",
            "1        03/02\n",
            "2        05/02\n",
            "3        13/02\n",
            "4        03/03\n",
            "         ...  \n",
            "24643    22/12\n",
            "24644    24/12\n",
            "24645    26/12\n",
            "24646    28/12\n",
            "24647    30/12\n",
            "Name: date, Length: 24648, dtype: object\n",
            "0         1\n",
            "1         2\n",
            "2         2\n",
            "3         2\n",
            "4         3\n",
            "         ..\n",
            "24643    12\n",
            "24644    12\n",
            "24645    12\n",
            "24646    12\n",
            "24647    12\n",
            "Name: month, Length: 24648, dtype: int64\n",
            "      employeeID   date employee_role  ...  number_of_otherbrowser  anomaly  month\n",
            "0          emp_0  01/01    Head of IT  ...                       0        0      1\n",
            "1          emp_0  03/02    Head of IT  ...                       0        0      2\n",
            "2          emp_0  05/02    Head of IT  ...                       0        0      2\n",
            "3          emp_0  13/02    Head of IT  ...                       0        0      2\n",
            "4          emp_0  03/03    Head of IT  ...                       0        0      3\n",
            "...          ...    ...           ...  ...                     ...      ...    ...\n",
            "24584     emp_99  22/08         Nurse  ...                       0        0      8\n",
            "24585     emp_99  24/08         Nurse  ...                       0        0      8\n",
            "24586     emp_99  26/08         Nurse  ...                       0        0      8\n",
            "24587     emp_99  28/08         Nurse  ...                       0        0      8\n",
            "24588     emp_99  30/08         Nurse  ...                       0        0      8\n",
            "\n",
            "[16512 rows x 25 columns]\n",
            "      employeeID   date employee_role  ...  number_of_otherbrowser  anomaly  month\n",
            "0          emp_0  01/01    Head of IT  ...                       0        0      1\n",
            "1          emp_0  03/02    Head of IT  ...                       0        0      2\n",
            "2          emp_0  05/02    Head of IT  ...                       0        0      2\n",
            "3          emp_0  13/02    Head of IT  ...                       0        0      2\n",
            "4          emp_0  03/03    Head of IT  ...                       0        0      3\n",
            "...          ...    ...           ...  ...                     ...      ...    ...\n",
            "24584     emp_99  22/08         Nurse  ...                       0        0      8\n",
            "24585     emp_99  24/08         Nurse  ...                       0        0      8\n",
            "24586     emp_99  26/08         Nurse  ...                       0        0      8\n",
            "24587     emp_99  28/08         Nurse  ...                       0        0      8\n",
            "24588     emp_99  30/08         Nurse  ...                       0        0      8\n",
            "\n",
            "[16203 rows x 25 columns]\n",
            "      employeeID   date employee_role  ...  number_of_otherbrowser  anomaly  month\n",
            "13         emp_0  01/09    Head of IT  ...                       0        0      9\n",
            "14         emp_0  03/09    Head of IT  ...                       0        0      9\n",
            "15         emp_0  01/10    Head of IT  ...                       0        0     10\n",
            "16         emp_0  29/10    Head of IT  ...                       0        0     10\n",
            "17         emp_0  03/11    Head of IT  ...                       0        0     11\n",
            "...          ...    ...           ...  ...                     ...      ...    ...\n",
            "24643     emp_99  22/12         Nurse  ...                       0        0     12\n",
            "24644     emp_99  24/12         Nurse  ...                       0        0     12\n",
            "24645     emp_99  26/12         Nurse  ...                       0        0     12\n",
            "24646     emp_99  28/12         Nurse  ...                       0        0     12\n",
            "24647     emp_99  30/12         Nurse  ...                       0        0     12\n",
            "\n",
            "[8136 rows x 25 columns]\n",
            "[0.05 0.1  0.15 0.2  0.25 0.3  0.35 0.4  0.45 0.5  0.55 0.6  0.65 0.7\n",
            " 0.75 0.8  0.85 0.9  0.95]\n"
          ],
          "name": "stdout"
        },
        {
          "output_type": "stream",
          "text": [
            "/usr/local/lib/python3.6/dist-packages/sklearn/neural_network/_multilayer_perceptron.py:571: ConvergenceWarning: Stochastic Optimizer: Maximum iterations (200) reached and the optimization hasn't converged yet.\n",
            "  % self.max_iter, ConvergenceWarning)\n",
            "/usr/local/lib/python3.6/dist-packages/sklearn/linear_model/_logistic.py:940: ConvergenceWarning: lbfgs failed to converge (status=1):\n",
            "STOP: TOTAL NO. of ITERATIONS REACHED LIMIT.\n",
            "\n",
            "Increase the number of iterations (max_iter) or scale the data as shown in:\n",
            "    https://scikit-learn.org/stable/modules/preprocessing.html\n",
            "Please also refer to the documentation for alternative solver options:\n",
            "    https://scikit-learn.org/stable/modules/linear_model.html#logistic-regression\n",
            "  extra_warning_msg=_LOGISTIC_SOLVER_CONVERGENCE_MSG)\n"
          ],
          "name": "stderr"
        }
      ]
    },
    {
      "cell_type": "code",
      "metadata": {
        "id": "NI0A0ANpm_bJ",
        "outputId": "7ec190de-036e-4b26-813f-58d233a14b93",
        "colab": {
          "base_uri": "https://localhost:8080/",
          "height": 158
        }
      },
      "source": [
        "idx=0\n",
        "for name, model in all_models:\n",
        "  print(int(allf1_list[idx][1]*1000))\n",
        "  idx+=1"
      ],
      "execution_count": null,
      "outputs": [
        {
          "output_type": "stream",
          "text": [
            "243\n",
            "457\n",
            "214\n",
            "95\n",
            "32\n",
            "355\n",
            "485\n",
            "75\n"
          ],
          "name": "stdout"
        }
      ]
    },
    {
      "cell_type": "code",
      "metadata": {
        "id": "AnP6keDCu9QP",
        "outputId": "694afcf2-b88b-47da-c508-284737e266a0",
        "colab": {
          "base_uri": "https://localhost:8080/",
          "height": 279
        }
      },
      "source": [
        "from matplotlib import pyplot as plt\n",
        "#print(th_list)\n",
        "idx=0\n",
        "for name, model in all_models:\n",
        "  plt.plot(th_list, allf1_list[idx], label=name)\n",
        "  idx+=1\n",
        "plt.legend()\n",
        "plt.xlabel(\"Threshold\")\n",
        "plt.ylabel(\"F1 score\")\n",
        "plt.show()"
      ],
      "execution_count": null,
      "outputs": [
        {
          "output_type": "display_data",
          "data": {
            "image/png": "[encoded data removed]",
            "text/plain": [
              "<Figure size 432x288 with 1 Axes>"
            ]
          },
          "metadata": {
            "tags": [],
            "needs_background": "light"
          }
        }
      ]
    },
    {
      "cell_type": "code",
      "metadata": {
        "id": "9-0Qb0Etu_98",
        "outputId": "7ce9440c-a01c-4427-dfd4-5df1a68cb085",
        "colab": {
          "base_uri": "https://localhost:8080/",
          "height": 279
        }
      },
      "source": [
        "from matplotlib import pyplot as plt\n",
        "#print(th_list)\n",
        "idx=0\n",
        "for name, model in all_models:\n",
        "  plt.plot(th_list, allprec_list[idx], label=name)\n",
        "  idx+=1\n",
        "plt.legend()\n",
        "plt.xlabel(\"Threshold\")\n",
        "plt.ylabel(\"Precision\")\n",
        "plt.show()"
      ],
      "execution_count": null,
      "outputs": [
        {
          "output_type": "display_data",
          "data": {
            "image/png": "[encoded data removed]",
            "text/plain": [
              "<Figure size 432x288 with 1 Axes>"
            ]
          },
          "metadata": {
            "tags": [],
            "needs_background": "light"
          }
        }
      ]
    },
    {
      "cell_type": "code",
      "metadata": {
        "id": "NShhBsoRvGFw",
        "outputId": "c148cde4-758e-446c-dbc3-44d12b167024",
        "colab": {
          "base_uri": "https://localhost:8080/",
          "height": 279
        }
      },
      "source": [
        "from matplotlib import pyplot as plt\n",
        "#print(th_list)\n",
        "idx=0\n",
        "for name, model in all_models:\n",
        "  plt.plot(th_list, allprec_list[idx], label=name)\n",
        "  idx+=1\n",
        "plt.legend()\n",
        "plt.xlabel(\"Threshold\")\n",
        "plt.ylabel(\"Precision\")\n",
        "plt.show()"
      ],
      "execution_count": null,
      "outputs": [
        {
          "output_type": "display_data",
          "data": {
            "image/png": "[encoded data removed]",
            "text/plain": [
              "<Figure size 432x288 with 1 Axes>"
            ]
          },
          "metadata": {
            "tags": [],
            "needs_background": "light"
          }
        }
      ]
    },
    {
      "cell_type": "code",
      "metadata": {
        "id": "kkE0mirivI91",
        "outputId": "810fb211-e170-47b3-9a84-f7635f395962",
        "colab": {
          "base_uri": "https://localhost:8080/",
          "height": 279
        }
      },
      "source": [
        "from matplotlib import pyplot as plt\n",
        "#print(th_list)\n",
        "idx=0\n",
        "for name, model in all_models:\n",
        "  plt.plot(th_list, allrec_list[idx], label=name)\n",
        "  idx+=1\n",
        "plt.legend()\n",
        "plt.xlabel(\"Threshold\")\n",
        "plt.ylabel(\"Recall\")\n",
        "plt.show()"
      ],
      "execution_count": null,
      "outputs": [
        {
          "output_type": "display_data",
          "data": {
            "image/png": "[encoded data removed]",
            "text/plain": [
              "<Figure size 432x288 with 1 Axes>"
            ]
          },
          "metadata": {
            "tags": [],
            "needs_background": "light"
          }
        }
      ]
    },
    {
      "cell_type": "code",
      "metadata": {
        "id": "7x3mPu7RvLXd",
        "outputId": "1494ab23-2c6c-4cc7-aa91-6febaaf1ae3a",
        "colab": {
          "base_uri": "https://localhost:8080/",
          "height": 279
        }
      },
      "source": [
        "from matplotlib import pyplot as plt\n",
        "#print(th_list)\n",
        "idx=0\n",
        "for name, model in all_models:\n",
        "  plt.plot(th_list, allacc_list[idx], label=name)\n",
        "  idx+=1\n",
        "plt.legend()\n",
        "plt.xlabel(\"Threshold\")\n",
        "plt.ylabel(\"Accuracy\")\n",
        "plt.show()"
      ],
      "execution_count": null,
      "outputs": [
        {
          "output_type": "display_data",
          "data": {
            "image/png": "[encoded data removed]",
            "text/plain": [
              "<Figure size 432x288 with 1 Axes>"
            ]
          },
          "metadata": {
            "tags": [],
            "needs_background": "light"
          }
        }
      ]
    }
  ]
}